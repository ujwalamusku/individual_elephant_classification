{
  "cells": [
    {
      "cell_type": "code",
      "execution_count": null,
      "metadata": {
        "id": "MeJoIhzdFVod"
      },
      "outputs": [],
      "source": [
        "import cv2\n",
        "import numpy as np\n",
        "import json\n",
        "import os\n",
        "import random\n",
        "import tensorflow as tf\n",
        "from keras.utils import np_utils\n",
        "from keras.models import Model, Sequential, load_model\n",
        "from keras.layers import Dense, Conv2D, MaxPooling2D, Flatten, Reshape, Dropout\n",
        "from keras.preprocessing.image import ImageDataGenerator\n",
        "from keras.applications.vgg16 import VGG16\n",
        "#from keras.applications.resnet50 import ResNet50\n",
        "from keras.applications.resnet import ResNet50\n",
        "from sklearn.metrics import confusion_matrix, classification_report\n",
        "import itertools\n",
        "import pandas as pd\n",
        "import matplotlib.pyplot as plt\n",
        "from keras.callbacks import EarlyStopping\n",
        "import seaborn as sns\n",
        "import shutil\n",
        "from PIL import Image\n",
        "from matplotlib import image\n",
        "from sklearn.cluster import AgglomerativeClustering\n",
        "from tensorflow.keras.preprocessing.image import ImageDataGenerator\n",
        "from tensorflow.keras.applications import EfficientNetB0\n",
        "from tensorflow.keras import layers, Model, Input"
      ]
    },
    {
      "cell_type": "code",
      "source": [
        "!pip install tensorflow-addons\n",
        "import tensorflow_addons as tfa"
      ],
      "metadata": {
        "colab": {
          "base_uri": "https://localhost:8080/"
        },
        "id": "yKhdFsM6ND-h",
        "outputId": "3836b6ac-eadb-4e03-81df-2fb431daddcb"
      },
      "execution_count": null,
      "outputs": [
        {
          "output_type": "stream",
          "name": "stdout",
          "text": [
            "Collecting tensorflow-addons\n",
            "  Downloading tensorflow_addons-0.16.1-cp37-cp37m-manylinux_2_12_x86_64.manylinux2010_x86_64.whl (1.1 MB)\n",
            "\u001b[K     |████████████████████████████████| 1.1 MB 5.2 MB/s \n",
            "\u001b[?25hRequirement already satisfied: typeguard>=2.7 in /usr/local/lib/python3.7/dist-packages (from tensorflow-addons) (2.7.1)\n",
            "Installing collected packages: tensorflow-addons\n",
            "Successfully installed tensorflow-addons-0.16.1\n"
          ]
        }
      ]
    },
    {
      "cell_type": "code",
      "source": [
        "! pip install imagehash"
      ],
      "metadata": {
        "colab": {
          "base_uri": "https://localhost:8080/"
        },
        "id": "8Xh6oy_uKUPj",
        "outputId": "e0552d9c-097b-4e47-a6e4-dbafa359b062"
      },
      "execution_count": null,
      "outputs": [
        {
          "output_type": "stream",
          "name": "stdout",
          "text": [
            "Requirement already satisfied: imagehash in /usr/local/lib/python3.7/dist-packages (4.2.1)\n",
            "Requirement already satisfied: PyWavelets in /usr/local/lib/python3.7/dist-packages (from imagehash) (1.3.0)\n",
            "Requirement already satisfied: pillow in /usr/local/lib/python3.7/dist-packages (from imagehash) (7.1.2)\n",
            "Requirement already satisfied: scipy in /usr/local/lib/python3.7/dist-packages (from imagehash) (1.4.1)\n",
            "Requirement already satisfied: six in /usr/local/lib/python3.7/dist-packages (from imagehash) (1.15.0)\n",
            "Requirement already satisfied: numpy in /usr/local/lib/python3.7/dist-packages (from imagehash) (1.21.6)\n"
          ]
        }
      ]
    },
    {
      "cell_type": "code",
      "source": [
        "# Load data\n",
        "\n",
        "X_train = np.load('/content/drive/MyDrive/CV_Images_npy_11/X_train.npy')\n",
        "y_train = np.load('/content/drive/MyDrive/CV_Images_npy_11/y_train.npy')\n",
        "X_test_cr = np.load('/content/drive/MyDrive/CV_Images_npy_11/X_test_cr.npy')\n",
        "y_test_cr = np.load('/content/drive/MyDrive/CV_Images_npy_11/y_test_cr.npy')\n",
        "X_test_uncr = np.load('/content/drive/MyDrive/CV_Images_npy_11/X_test_uncr.npy')\n",
        "y_test_uncr = np.load('/content/drive/MyDrive/CV_Images_npy_11/y_test_uncr.npy')"
      ],
      "metadata": {
        "id": "v03EkyjcKUNT"
      },
      "execution_count": null,
      "outputs": []
    },
    {
      "cell_type": "code",
      "source": [
        "He_initializer = tf.keras.initializers.HeNormal()\n",
        "\n",
        "width_shape = 224\n",
        "height_shape = 224\n",
        "image_input = Input(shape=(width_shape, height_shape, 3))\n",
        "\n",
        "def getEfficientNetModel(lastFourTrainable=False):\n",
        "  \n",
        "  eff_model = EfficientNetB0(include_top=False, input_tensor=image_input, weights=\"imagenet\")\n",
        "\n",
        "  # Make all layers untrainable\n",
        "  for layer in eff_model.layers[:]:\n",
        "      layer.trainable = False\n",
        "\n",
        "  # Add fully connected layer which have 1024 neuron to VGG-16 model\n",
        "  output = eff_model.get_layer('top_activation').output\n",
        "  output = Flatten(name='new_flatten')(output)\n",
        "  output = Dense(units=1024, activation='relu', name='new_fc',kernel_initializer= He_initializer)(output)\n",
        "  output = Dense(units=11, activation='softmax',kernel_initializer= He_initializer)(output)\n",
        "  eff_model = Model(eff_model.input, output)\n",
        "\n",
        "  #Make last 4 layers trainable if lastFourTrainable == True\n",
        "  if lastFourTrainable == True:\n",
        "    eff_model.get_layer('top_conv').trainable = True\n",
        "    #eff_model.get_layer('block7a_project_conv').trainable = True\n",
        "    \n",
        "    #vgg_model.get_layer('fc1').trainable = True\n",
        "    #vgg_model.get_layer('fc2').trainable = True\n",
        "    eff_model.get_layer('new_fc').trainable = True\n",
        "    \n",
        "  # to run discriminative learning uncomment below\n",
        "  # optimizers = [\n",
        "  #    tf.keras.optimizers.Adam(learning_rate=1e-6),\n",
        "  #    tf.keras.optimizers.Adam(learning_rate=1e-3)]\n",
        "\n",
        "  # optimizers_and_layers = [(optimizers[1], eff_model.layers[-1]),(optimizers[1], eff_model.layers[-2]),\n",
        "  #                           (optimizers[0], eff_model.layers[-6])]#, (optimizers[0], eff_model.layers[-8])]\n",
        "\n",
        "  # optimizer = tfa.optimizers.MultiOptimizer(optimizers_and_layers)\n",
        "\n",
        "  # eff_model.compile(optimizer=optimizer,loss='categorical_crossentropy',metrics=['accuracy'])\n",
        "\n",
        "  eff_model.compile(optimizer='adam', loss='categorical_crossentropy', metrics=['accuracy'])\n",
        "  # eff_model.summary()\n",
        "  return eff_model"
      ],
      "metadata": {
        "id": "tonF7N7gK-p8"
      },
      "execution_count": null,
      "outputs": []
    },
    {
      "cell_type": "markdown",
      "source": [
        "# Without Augmentation"
      ],
      "metadata": {
        "id": "FuSvLpICLX3J"
      }
    },
    {
      "cell_type": "code",
      "source": [
        "eff_model =  getEfficientNetModel()"
      ],
      "metadata": {
        "id": "AbooShIXLXIt"
      },
      "execution_count": null,
      "outputs": []
    },
    {
      "cell_type": "code",
      "source": [
        "es = EarlyStopping(monitor='val_accuracy', mode='max', patience=5,  restore_best_weights=True) \n",
        "eff_model.fit(X_train, y_train, epochs=25, validation_data=(X_test_uncr, y_test_uncr), batch_size=50, callbacks=[es])"
      ],
      "metadata": {
        "colab": {
          "base_uri": "https://localhost:8080/"
        },
        "id": "IBOEyA5fLcCG",
        "outputId": "688f2d60-1bde-4b6d-94d4-7423945454fc"
      },
      "execution_count": null,
      "outputs": [
        {
          "output_type": "stream",
          "name": "stdout",
          "text": [
            "Epoch 1/25\n",
            "18/18 [==============================] - 26s 528ms/step - loss: 6.8585 - accuracy: 0.6883 - val_loss: 20.1330 - val_accuracy: 0.1933\n",
            "Epoch 2/25\n",
            "18/18 [==============================] - 5s 297ms/step - loss: 0.3339 - accuracy: 0.9681 - val_loss: 9.3863 - val_accuracy: 0.5951\n",
            "Epoch 3/25\n",
            "18/18 [==============================] - 5s 302ms/step - loss: 0.0445 - accuracy: 0.9954 - val_loss: 6.5059 - val_accuracy: 0.6074\n",
            "Epoch 4/25\n",
            "18/18 [==============================] - 5s 286ms/step - loss: 2.2565e-04 - accuracy: 1.0000 - val_loss: 6.3614 - val_accuracy: 0.5920\n",
            "Epoch 5/25\n",
            "18/18 [==============================] - 5s 284ms/step - loss: 0.0100 - accuracy: 0.9977 - val_loss: 6.2468 - val_accuracy: 0.5429\n",
            "Epoch 6/25\n",
            "18/18 [==============================] - 5s 284ms/step - loss: 5.1804e-04 - accuracy: 1.0000 - val_loss: 6.7072 - val_accuracy: 0.5153\n",
            "Epoch 7/25\n",
            "18/18 [==============================] - 5s 285ms/step - loss: 0.0079 - accuracy: 0.9977 - val_loss: 6.4771 - val_accuracy: 0.5767\n",
            "Epoch 8/25\n",
            "18/18 [==============================] - 5s 295ms/step - loss: 0.0046 - accuracy: 0.9989 - val_loss: 6.0754 - val_accuracy: 0.6074\n"
          ]
        },
        {
          "output_type": "execute_result",
          "data": {
            "text/plain": [
              "<keras.callbacks.History at 0x7f7e4c7767d0>"
            ]
          },
          "metadata": {},
          "execution_count": 14
        }
      ]
    },
    {
      "cell_type": "code",
      "source": [
        "y_pred_cr = eff_model.predict(X_test_cr)\n",
        "y_pred_uncr = eff_model.predict(X_test_uncr)\n",
        "\n",
        "_, acc = eff_model.evaluate(X_test_cr, y_test_cr, verbose=0)\n",
        "print('> %.3f' % (acc * 100.0))\n",
        "\n",
        "_, acc = eff_model.evaluate(X_test_uncr, y_test_uncr, verbose=0)\n",
        "print('> %.3f' % (acc * 100.0))"
      ],
      "metadata": {
        "colab": {
          "base_uri": "https://localhost:8080/"
        },
        "id": "8rWJBFVKLl_a",
        "outputId": "81a54d95-32b5-45cc-cb2a-305bf0c178e2"
      },
      "execution_count": null,
      "outputs": [
        {
          "output_type": "stream",
          "name": "stdout",
          "text": [
            "> 69.325\n",
            "> 60.736\n"
          ]
        }
      ]
    },
    {
      "cell_type": "markdown",
      "source": [
        "# Augmentation 1 (Default)"
      ],
      "metadata": {
        "id": "TB5o9KL_LyCc"
      }
    },
    {
      "cell_type": "code",
      "source": [
        "X_train_dg = ImageDataGenerator()\n",
        "X_train_dg.fit(X_train)"
      ],
      "metadata": {
        "id": "zjSfXcxmLxrK"
      },
      "execution_count": null,
      "outputs": []
    },
    {
      "cell_type": "code",
      "source": [
        "eff_model =  getEfficientNetModel()"
      ],
      "metadata": {
        "id": "85AI4_bIL5iq"
      },
      "execution_count": null,
      "outputs": []
    },
    {
      "cell_type": "code",
      "source": [
        "es = EarlyStopping(monitor='val_accuracy', mode='max', patience=5,  restore_best_weights=True) \n",
        "eff_model.fit(X_train_dg.flow(X_train, y_train), epochs=25, validation_data=(X_test_uncr, y_test_uncr), batch_size=50, callbacks=[es])"
      ],
      "metadata": {
        "colab": {
          "base_uri": "https://localhost:8080/"
        },
        "id": "9MBKmyLOL7o_",
        "outputId": "c52debaf-4f82-4c33-fd45-e4e21fff68a7"
      },
      "execution_count": null,
      "outputs": [
        {
          "output_type": "stream",
          "name": "stdout",
          "text": [
            "Epoch 1/25\n",
            "28/28 [==============================] - 16s 274ms/step - loss: 9.8205 - accuracy: 0.7088 - val_loss: 9.7318 - val_accuracy: 0.5000\n",
            "Epoch 2/25\n",
            "28/28 [==============================] - 5s 194ms/step - loss: 0.1732 - accuracy: 0.9784 - val_loss: 7.6311 - val_accuracy: 0.4540\n",
            "Epoch 3/25\n",
            "28/28 [==============================] - 5s 194ms/step - loss: 0.0094 - accuracy: 0.9966 - val_loss: 5.9785 - val_accuracy: 0.5000\n",
            "Epoch 4/25\n",
            "28/28 [==============================] - 5s 196ms/step - loss: 0.0055 - accuracy: 0.9966 - val_loss: 7.0701 - val_accuracy: 0.4448\n",
            "Epoch 5/25\n",
            "28/28 [==============================] - 6s 204ms/step - loss: 2.1594e-06 - accuracy: 1.0000 - val_loss: 5.6752 - val_accuracy: 0.5123\n",
            "Epoch 6/25\n",
            "28/28 [==============================] - 6s 203ms/step - loss: 7.4814e-06 - accuracy: 1.0000 - val_loss: 5.6283 - val_accuracy: 0.5245\n",
            "Epoch 7/25\n",
            "28/28 [==============================] - 6s 198ms/step - loss: 2.2660e-05 - accuracy: 1.0000 - val_loss: 5.6179 - val_accuracy: 0.5245\n",
            "Epoch 8/25\n",
            "28/28 [==============================] - 6s 205ms/step - loss: 2.1864e-06 - accuracy: 1.0000 - val_loss: 5.5706 - val_accuracy: 0.5276\n",
            "Epoch 9/25\n",
            "28/28 [==============================] - 5s 196ms/step - loss: 3.2938e-06 - accuracy: 1.0000 - val_loss: 5.5637 - val_accuracy: 0.5215\n",
            "Epoch 10/25\n",
            "28/28 [==============================] - 6s 197ms/step - loss: 2.3088e-06 - accuracy: 1.0000 - val_loss: 5.5642 - val_accuracy: 0.5153\n",
            "Epoch 11/25\n",
            "28/28 [==============================] - 5s 197ms/step - loss: 9.9407e-06 - accuracy: 1.0000 - val_loss: 5.5404 - val_accuracy: 0.5153\n",
            "Epoch 12/25\n",
            "28/28 [==============================] - 6s 201ms/step - loss: 5.3343e-06 - accuracy: 1.0000 - val_loss: 5.5364 - val_accuracy: 0.5153\n",
            "Epoch 13/25\n",
            "28/28 [==============================] - 6s 206ms/step - loss: 6.0742e-04 - accuracy: 1.0000 - val_loss: 8.9743 - val_accuracy: 0.4080\n"
          ]
        },
        {
          "output_type": "execute_result",
          "data": {
            "text/plain": [
              "<keras.callbacks.History at 0x7f7ddaf9de50>"
            ]
          },
          "metadata": {},
          "execution_count": 21
        }
      ]
    },
    {
      "cell_type": "code",
      "source": [
        "y_pred_cr = eff_model.predict(X_test_cr)\n",
        "y_pred_uncr = eff_model.predict(X_test_uncr)\n",
        "\n",
        "_, acc = eff_model.evaluate(X_test_cr, y_test_cr, verbose=0)\n",
        "print('> %.3f' % (acc * 100.0))\n",
        "\n",
        "_, acc = eff_model.evaluate(X_test_uncr, y_test_uncr, verbose=0)\n",
        "print('> %.3f' % (acc * 100.0))"
      ],
      "metadata": {
        "colab": {
          "base_uri": "https://localhost:8080/"
        },
        "id": "NL2lQgQxL_cL",
        "outputId": "6f9588c2-b0a1-42ee-ae86-e99e31231e58"
      },
      "execution_count": null,
      "outputs": [
        {
          "output_type": "stream",
          "name": "stdout",
          "text": [
            "> 66.564\n",
            "> 52.761\n"
          ]
        }
      ]
    },
    {
      "cell_type": "markdown",
      "source": [
        "# Augmentation 2"
      ],
      "metadata": {
        "id": "VWFs7ARJMReJ"
      }
    },
    {
      "cell_type": "code",
      "source": [
        "X_train_dg = ImageDataGenerator(horizontal_flip=True)\n",
        "X_train_dg.fit(X_train)"
      ],
      "metadata": {
        "id": "_2voxufiMEIQ"
      },
      "execution_count": null,
      "outputs": []
    },
    {
      "cell_type": "code",
      "source": [
        "eff_model =  getEfficientNetModel()"
      ],
      "metadata": {
        "id": "uI2IHEu-MbAK"
      },
      "execution_count": null,
      "outputs": []
    },
    {
      "cell_type": "code",
      "source": [
        "es = EarlyStopping(monitor='val_accuracy', mode='max', patience=5,  restore_best_weights=True) \n",
        "eff_model.fit(X_train_dg.flow(X_train, y_train), epochs=25, validation_data=(X_test_uncr, y_test_uncr), batch_size=50, callbacks=[es])"
      ],
      "metadata": {
        "colab": {
          "base_uri": "https://localhost:8080/"
        },
        "id": "SlSxWh6LMcVu",
        "outputId": "20e0c57a-f49f-46c5-f894-cd416e8b7131"
      },
      "execution_count": null,
      "outputs": [
        {
          "output_type": "stream",
          "name": "stdout",
          "text": [
            "Epoch 1/25\n",
            "28/28 [==============================] - 16s 283ms/step - loss: 7.6913 - accuracy: 0.6871 - val_loss: 4.8471 - val_accuracy: 0.5276\n",
            "Epoch 2/25\n",
            "28/28 [==============================] - 6s 206ms/step - loss: 0.2512 - accuracy: 0.9693 - val_loss: 2.8861 - val_accuracy: 0.6871\n",
            "Epoch 3/25\n",
            "28/28 [==============================] - 5s 197ms/step - loss: 0.1055 - accuracy: 0.9841 - val_loss: 4.1271 - val_accuracy: 0.6472\n",
            "Epoch 4/25\n",
            "28/28 [==============================] - 5s 196ms/step - loss: 0.0440 - accuracy: 0.9863 - val_loss: 4.4000 - val_accuracy: 0.6380\n",
            "Epoch 5/25\n",
            "28/28 [==============================] - 6s 200ms/step - loss: 0.0431 - accuracy: 0.9909 - val_loss: 4.3808 - val_accuracy: 0.6656\n",
            "Epoch 6/25\n",
            "28/28 [==============================] - 6s 203ms/step - loss: 0.0613 - accuracy: 0.9875 - val_loss: 4.7222 - val_accuracy: 0.6350\n",
            "Epoch 7/25\n",
            "28/28 [==============================] - 6s 207ms/step - loss: 0.0237 - accuracy: 0.9943 - val_loss: 5.4619 - val_accuracy: 0.6534\n"
          ]
        },
        {
          "output_type": "execute_result",
          "data": {
            "text/plain": [
              "<keras.callbacks.History at 0x7f7e4c352390>"
            ]
          },
          "metadata": {},
          "execution_count": 25
        }
      ]
    },
    {
      "cell_type": "code",
      "source": [
        "y_pred_cr = eff_model.predict(X_test_cr)\n",
        "y_pred_uncr = eff_model.predict(X_test_uncr)\n",
        "\n",
        "_, acc = eff_model.evaluate(X_test_cr, y_test_cr, verbose=0)\n",
        "print('> %.3f' % (acc * 100.0))\n",
        "\n",
        "_, acc = eff_model.evaluate(X_test_uncr, y_test_uncr, verbose=0)\n",
        "print('> %.3f' % (acc * 100.0))"
      ],
      "metadata": {
        "colab": {
          "base_uri": "https://localhost:8080/"
        },
        "id": "kiqs-UovMdgh",
        "outputId": "4d977b7b-38e2-4284-fd69-da937f57ac16"
      },
      "execution_count": null,
      "outputs": [
        {
          "output_type": "stream",
          "name": "stdout",
          "text": [
            "> 73.313\n",
            "> 68.712\n"
          ]
        }
      ]
    },
    {
      "cell_type": "markdown",
      "source": [
        "# Augmentation 3"
      ],
      "metadata": {
        "id": "MvFLuLW8MfjR"
      }
    },
    {
      "cell_type": "code",
      "source": [
        "X_train_dg = ImageDataGenerator(\n",
        "    featurewise_center=True,\n",
        "    featurewise_std_normalization=True,\n",
        "    rotation_range=20,\n",
        "    width_shift_range=0.2,\n",
        "    height_shift_range=0.2,\n",
        "    horizontal_flip=True,\n",
        "    validation_split=0.2\n",
        ")\n",
        "X_train_dg.fit(X_train)"
      ],
      "metadata": {
        "id": "GDxbB_jOMeqf"
      },
      "execution_count": null,
      "outputs": []
    },
    {
      "cell_type": "code",
      "source": [
        "eff_model =  getEfficientNetModel()"
      ],
      "metadata": {
        "id": "8LnTz0VgMj1l"
      },
      "execution_count": null,
      "outputs": []
    },
    {
      "cell_type": "code",
      "source": [
        "es = EarlyStopping(monitor='val_accuracy', mode='max', patience=5,  restore_best_weights=True) \n",
        "eff_model.fit(X_train_dg.flow(X_train, y_train), epochs=25, validation_data=(X_test_uncr, y_test_uncr), batch_size=50, callbacks=[es])"
      ],
      "metadata": {
        "colab": {
          "base_uri": "https://localhost:8080/"
        },
        "id": "7kqe37m2MlK3",
        "outputId": "4d92c8c1-60f6-481c-ff5e-da0445a11be7"
      },
      "execution_count": null,
      "outputs": [
        {
          "output_type": "stream",
          "name": "stdout",
          "text": [
            "Epoch 1/25\n",
            "28/28 [==============================] - 24s 605ms/step - loss: 26.8540 - accuracy: 0.1229 - val_loss: 11.6756 - val_accuracy: 0.0859\n",
            "Epoch 2/25\n",
            "28/28 [==============================] - 13s 459ms/step - loss: 4.1450 - accuracy: 0.1206 - val_loss: 11.3341 - val_accuracy: 0.0859\n",
            "Epoch 3/25\n",
            "28/28 [==============================] - 13s 459ms/step - loss: 2.6434 - accuracy: 0.1570 - val_loss: 11.2887 - val_accuracy: 0.0859\n",
            "Epoch 4/25\n",
            "28/28 [==============================] - 14s 493ms/step - loss: 2.5301 - accuracy: 0.1445 - val_loss: 11.3508 - val_accuracy: 0.0828\n",
            "Epoch 5/25\n",
            "28/28 [==============================] - 13s 463ms/step - loss: 2.4480 - accuracy: 0.1752 - val_loss: 11.7726 - val_accuracy: 0.0859\n",
            "Epoch 6/25\n",
            "28/28 [==============================] - 12s 441ms/step - loss: 2.7153 - accuracy: 0.1377 - val_loss: 12.0902 - val_accuracy: 0.0859\n"
          ]
        },
        {
          "output_type": "execute_result",
          "data": {
            "text/plain": [
              "<keras.callbacks.History at 0x7f7e4e34f890>"
            ]
          },
          "metadata": {},
          "execution_count": 29
        }
      ]
    },
    {
      "cell_type": "code",
      "source": [
        "y_pred_cr = eff_model.predict(X_test_cr)\n",
        "y_pred_uncr = eff_model.predict(X_test_uncr)\n",
        "\n",
        "_, acc = eff_model.evaluate(X_test_cr, y_test_cr, verbose=0)\n",
        "print('> %.3f' % (acc * 100.0))\n",
        "\n",
        "_, acc = eff_model.evaluate(X_test_uncr, y_test_uncr, verbose=0)\n",
        "print('> %.3f' % (acc * 100.0))"
      ],
      "metadata": {
        "colab": {
          "base_uri": "https://localhost:8080/"
        },
        "id": "QVFbCSB2MnYx",
        "outputId": "faeae39c-97e6-4e81-c223-e0601ac3f8a7"
      },
      "execution_count": null,
      "outputs": [
        {
          "output_type": "stream",
          "name": "stdout",
          "text": [
            "> 6.748\n",
            "> 8.589\n"
          ]
        }
      ]
    },
    {
      "cell_type": "markdown",
      "source": [
        "# Augmentation 4"
      ],
      "metadata": {
        "id": "0ImW_OrlMrOa"
      }
    },
    {
      "cell_type": "code",
      "source": [
        "X_train_dg = ImageDataGenerator(\n",
        "    shear_range=0.2,\n",
        "    zoom_range=0.2,\n",
        "    horizontal_flip=True\n",
        ")\n",
        "X_train_dg.fit(X_train)"
      ],
      "metadata": {
        "id": "fqzJ1-AkMouW"
      },
      "execution_count": null,
      "outputs": []
    },
    {
      "cell_type": "code",
      "source": [
        "eff_model =  getEfficientNetModel()"
      ],
      "metadata": {
        "id": "ADm1YEyrMvZ1"
      },
      "execution_count": null,
      "outputs": []
    },
    {
      "cell_type": "code",
      "source": [
        "es = EarlyStopping(monitor='val_accuracy', mode='max', patience=5,  restore_best_weights=True) \n",
        "eff_model.fit(X_train_dg.flow(X_train, y_train), epochs=25, validation_data=(X_test_uncr, y_test_uncr), batch_size=50, callbacks=[es])"
      ],
      "metadata": {
        "colab": {
          "base_uri": "https://localhost:8080/"
        },
        "id": "LpgcOl_dMw0W",
        "outputId": "335cfa73-d560-45fd-c6b3-7ecf8ec4c233"
      },
      "execution_count": null,
      "outputs": [
        {
          "output_type": "stream",
          "name": "stdout",
          "text": [
            "Epoch 1/25\n",
            "28/28 [==============================] - 21s 496ms/step - loss: 10.1789 - accuracy: 0.6052 - val_loss: 5.6265 - val_accuracy: 0.4908\n",
            "Epoch 2/25\n",
            "28/28 [==============================] - 13s 458ms/step - loss: 0.3292 - accuracy: 0.9431 - val_loss: 1.9508 - val_accuracy: 0.7485\n",
            "Epoch 3/25\n",
            "28/28 [==============================] - 12s 424ms/step - loss: 0.0863 - accuracy: 0.9852 - val_loss: 1.8650 - val_accuracy: 0.7699\n",
            "Epoch 4/25\n",
            "28/28 [==============================] - 12s 418ms/step - loss: 0.1887 - accuracy: 0.9704 - val_loss: 3.6522 - val_accuracy: 0.6871\n",
            "Epoch 5/25\n",
            "28/28 [==============================] - 12s 418ms/step - loss: 0.1739 - accuracy: 0.9738 - val_loss: 2.4965 - val_accuracy: 0.7209\n",
            "Epoch 6/25\n",
            "28/28 [==============================] - 12s 420ms/step - loss: 0.0432 - accuracy: 0.9909 - val_loss: 2.7531 - val_accuracy: 0.7055\n",
            "Epoch 7/25\n",
            "28/28 [==============================] - 12s 430ms/step - loss: 0.0506 - accuracy: 0.9863 - val_loss: 2.1862 - val_accuracy: 0.7853\n",
            "Epoch 8/25\n",
            "28/28 [==============================] - 12s 423ms/step - loss: 0.0242 - accuracy: 0.9932 - val_loss: 3.0607 - val_accuracy: 0.7055\n",
            "Epoch 9/25\n",
            "28/28 [==============================] - 12s 420ms/step - loss: 0.0190 - accuracy: 0.9909 - val_loss: 2.6967 - val_accuracy: 0.7301\n",
            "Epoch 10/25\n",
            "28/28 [==============================] - 12s 420ms/step - loss: 0.0247 - accuracy: 0.9932 - val_loss: 2.7032 - val_accuracy: 0.7362\n",
            "Epoch 11/25\n",
            "28/28 [==============================] - 12s 417ms/step - loss: 0.0089 - accuracy: 0.9954 - val_loss: 3.2251 - val_accuracy: 0.7025\n",
            "Epoch 12/25\n",
            "28/28 [==============================] - 12s 425ms/step - loss: 0.0651 - accuracy: 0.9886 - val_loss: 4.9404 - val_accuracy: 0.7055\n"
          ]
        },
        {
          "output_type": "execute_result",
          "data": {
            "text/plain": [
              "<keras.callbacks.History at 0x7f7dd6ca3f10>"
            ]
          },
          "metadata": {},
          "execution_count": 33
        }
      ]
    },
    {
      "cell_type": "code",
      "source": [
        "y_pred_cr = eff_model.predict(X_test_cr)\n",
        "y_pred_uncr = eff_model.predict(X_test_uncr)\n",
        "\n",
        "_, acc = eff_model.evaluate(X_test_cr, y_test_cr, verbose=0)\n",
        "print('> %.3f' % (acc * 100.0))\n",
        "\n",
        "_, acc = eff_model.evaluate(X_test_uncr, y_test_uncr, verbose=0)\n",
        "print('> %.3f' % (acc * 100.0))"
      ],
      "metadata": {
        "colab": {
          "base_uri": "https://localhost:8080/"
        },
        "id": "JhgFxzv-MyLf",
        "outputId": "fee51ce5-fb30-40a1-d1e7-8226f0d0d82e"
      },
      "execution_count": null,
      "outputs": [
        {
          "output_type": "stream",
          "name": "stdout",
          "text": [
            "> 96.319\n",
            "> 78.528\n"
          ]
        }
      ]
    },
    {
      "cell_type": "markdown",
      "source": [
        "# Augmentation 4 with Discrim Learning"
      ],
      "metadata": {
        "id": "U6AJ83YuM0z9"
      }
    },
    {
      "cell_type": "code",
      "source": [
        "def getEfficientNetModel(lastFourTrainable=False):\n",
        "  \n",
        "  eff_model = EfficientNetB0(include_top=False, input_tensor=image_input, weights=\"imagenet\")\n",
        "\n",
        "  # Make all layers untrainable\n",
        "  for layer in eff_model.layers[:]:\n",
        "      layer.trainable = False\n",
        "\n",
        "  # Add fully connected layer which have 1024 neuron to VGG-16 model\n",
        "  output = eff_model.get_layer('top_activation').output\n",
        "  output = Flatten(name='new_flatten')(output)\n",
        "  output = Dense(units=1024, activation='relu', name='new_fc',kernel_initializer= He_initializer)(output)\n",
        "  output = Dense(units=11, activation='softmax',kernel_initializer= He_initializer)(output)\n",
        "  eff_model = Model(eff_model.input, output)\n",
        "\n",
        "  #Make last 4 layers trainable if lastFourTrainable == True\n",
        "  if lastFourTrainable == True:\n",
        "    # eff_model.get_layer('top_conv').trainable = True\n",
        "    eff_model.get_layer('block7a_project_conv').trainable = True\n",
        "    \n",
        "    #vgg_model.get_layer('fc1').trainable = True\n",
        "    #vgg_model.get_layer('fc2').trainable = True\n",
        "    eff_model.get_layer('new_fc').trainable = True\n",
        "    \n",
        "  # to run discriminative learning uncomment below\n",
        "  optimizers = [\n",
        "     tf.keras.optimizers.Adam(learning_rate=1e-6),\n",
        "     tf.keras.optimizers.Adam(learning_rate=1e-3)]\n",
        "\n",
        "  optimizers_and_layers = [(optimizers[1], eff_model.layers[-1]),(optimizers[1], eff_model.layers[-2]),\n",
        "                            (optimizers[0], eff_model.layers[-6])]#, (optimizers[0], eff_model.layers[-8])]\n",
        "\n",
        "  optimizer = tfa.optimizers.MultiOptimizer(optimizers_and_layers)\n",
        "\n",
        "  eff_model.compile(optimizer=optimizer,loss='categorical_crossentropy',metrics=['accuracy'])\n",
        "\n",
        "  # eff_model.compile(optimizer='adam', loss='categorical_crossentropy', metrics=['accuracy'])\n",
        "  # eff_model.summary()\n",
        "  return eff_model"
      ],
      "metadata": {
        "id": "iPHuRhWzM5N_"
      },
      "execution_count": null,
      "outputs": []
    },
    {
      "cell_type": "code",
      "source": [
        "X_train_dg = ImageDataGenerator(\n",
        "    shear_range=0.2,\n",
        "    zoom_range=0.2,\n",
        "    horizontal_flip=True\n",
        ")\n",
        "X_train_dg.fit(X_train)"
      ],
      "metadata": {
        "id": "mhydNnpVMzJF"
      },
      "execution_count": null,
      "outputs": []
    },
    {
      "cell_type": "code",
      "source": [
        "eff_model =  getEfficientNetModel(lastFourTrainable=True)"
      ],
      "metadata": {
        "id": "HqQDuaXMN-WG"
      },
      "execution_count": null,
      "outputs": []
    },
    {
      "cell_type": "code",
      "source": [
        "es = EarlyStopping(monitor='val_accuracy', mode='max', patience=5,  restore_best_weights=True) \n",
        "eff_model.fit(X_train_dg.flow(X_train, y_train), epochs=25, validation_data=(X_test_uncr, y_test_uncr), batch_size=50, callbacks=[es])"
      ],
      "metadata": {
        "colab": {
          "base_uri": "https://localhost:8080/"
        },
        "id": "P8wNkPpEOCJ_",
        "outputId": "3251329b-841f-4604-e219-948a83c34224"
      },
      "execution_count": null,
      "outputs": [
        {
          "output_type": "stream",
          "name": "stdout",
          "text": [
            "Epoch 1/25\n",
            "28/28 [==============================] - 21s 503ms/step - loss: 8.9391 - accuracy: 0.5745 - val_loss: 3.7567 - val_accuracy: 0.5675\n",
            "Epoch 2/25\n",
            "28/28 [==============================] - 12s 425ms/step - loss: 0.2557 - accuracy: 0.9556 - val_loss: 3.0360 - val_accuracy: 0.6810\n",
            "Epoch 3/25\n",
            "28/28 [==============================] - 12s 428ms/step - loss: 0.1295 - accuracy: 0.9670 - val_loss: 2.5463 - val_accuracy: 0.7055\n",
            "Epoch 4/25\n",
            "28/28 [==============================] - 12s 419ms/step - loss: 0.1156 - accuracy: 0.9784 - val_loss: 3.4190 - val_accuracy: 0.6840\n",
            "Epoch 5/25\n",
            "28/28 [==============================] - 12s 422ms/step - loss: 0.1101 - accuracy: 0.9795 - val_loss: 3.8580 - val_accuracy: 0.7423\n",
            "Epoch 6/25\n",
            "28/28 [==============================] - 12s 417ms/step - loss: 0.1539 - accuracy: 0.9807 - val_loss: 3.7730 - val_accuracy: 0.5767\n",
            "Epoch 7/25\n",
            "28/28 [==============================] - 12s 416ms/step - loss: 0.0951 - accuracy: 0.9829 - val_loss: 2.5955 - val_accuracy: 0.7055\n",
            "Epoch 8/25\n",
            "28/28 [==============================] - 12s 419ms/step - loss: 0.1115 - accuracy: 0.9829 - val_loss: 2.8545 - val_accuracy: 0.7209\n",
            "Epoch 9/25\n",
            "28/28 [==============================] - 12s 420ms/step - loss: 0.0844 - accuracy: 0.9863 - val_loss: 4.2409 - val_accuracy: 0.6227\n",
            "Epoch 10/25\n",
            "28/28 [==============================] - 12s 424ms/step - loss: 0.0453 - accuracy: 0.9932 - val_loss: 2.8761 - val_accuracy: 0.7147\n"
          ]
        },
        {
          "output_type": "execute_result",
          "data": {
            "text/plain": [
              "<keras.callbacks.History at 0x7f7dd1b8aed0>"
            ]
          },
          "metadata": {},
          "execution_count": 54
        }
      ]
    },
    {
      "cell_type": "code",
      "source": [
        "y_pred_cr = eff_model.predict(X_test_cr)\n",
        "y_pred_uncr = eff_model.predict(X_test_uncr)\n",
        "\n",
        "_, acc = eff_model.evaluate(X_test_cr, y_test_cr, verbose=0)\n",
        "print('> %.3f' % (acc * 100.0))\n",
        "\n",
        "_, acc = eff_model.evaluate(X_test_uncr, y_test_uncr, verbose=0)\n",
        "print('> %.3f' % (acc * 100.0))"
      ],
      "metadata": {
        "colab": {
          "base_uri": "https://localhost:8080/"
        },
        "id": "UeeuDWt8OSdP",
        "outputId": "952e7b2f-203a-4c9c-a121-55e1e832d944"
      },
      "execution_count": null,
      "outputs": [
        {
          "output_type": "stream",
          "name": "stdout",
          "text": [
            "> 85.890\n",
            "> 74.233\n"
          ]
        }
      ]
    },
    {
      "cell_type": "code",
      "source": [
        ""
      ],
      "metadata": {
        "id": "lyaYtMLqOXPp"
      },
      "execution_count": null,
      "outputs": []
    }
  ],
  "metadata": {
    "accelerator": "GPU",
    "colab": {
      "collapsed_sections": [],
      "name": "EfficientNet.ipynb",
      "provenance": []
    },
    "kernelspec": {
      "display_name": "Python 3",
      "name": "python3"
    },
    "language_info": {
      "name": "python"
    }
  },
  "nbformat": 4,
  "nbformat_minor": 0
}