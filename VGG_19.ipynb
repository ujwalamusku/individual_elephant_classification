{
  "nbformat": 4,
  "nbformat_minor": 0,
  "metadata": {
    "colab": {
      "name": "VGG-19.ipynb",
      "provenance": [],
      "collapsed_sections": []
    },
    "kernelspec": {
      "name": "python3",
      "display_name": "Python 3"
    },
    "language_info": {
      "name": "python"
    },
    "accelerator": "GPU"
  },
  "cells": [
    {
      "cell_type": "code",
      "execution_count": null,
      "metadata": {
        "id": "xDSZWhT7bFKO"
      },
      "outputs": [],
      "source": [
        "# from google.colab import drive\n",
        "# drive.mount('/content/drive')"
      ]
    },
    {
      "cell_type": "code",
      "source": [
        "ext = 'drive/MyDrive/CV_Images/'#concentric.mat'"
      ],
      "metadata": {
        "id": "7qy9b9_YbPMn"
      },
      "execution_count": null,
      "outputs": []
    },
    {
      "cell_type": "code",
      "source": [
        "! pip install imagehash"
      ],
      "metadata": {
        "colab": {
          "base_uri": "https://localhost:8080/"
        },
        "id": "w4WHxEKwbRoH",
        "outputId": "324603f9-d1ee-4845-8f4c-5cfa2fdcb197"
      },
      "execution_count": null,
      "outputs": [
        {
          "output_type": "stream",
          "name": "stdout",
          "text": [
            "Collecting imagehash\n",
            "  Downloading ImageHash-4.2.1.tar.gz (812 kB)\n",
            "\u001b[?25l\r\u001b[K     |▍                               | 10 kB 17.4 MB/s eta 0:00:01\r\u001b[K     |▉                               | 20 kB 12.2 MB/s eta 0:00:01\r\u001b[K     |█▏                              | 30 kB 4.7 MB/s eta 0:00:01\r\u001b[K     |█▋                              | 40 kB 5.9 MB/s eta 0:00:01\r\u001b[K     |██                              | 51 kB 4.1 MB/s eta 0:00:01\r\u001b[K     |██▍                             | 61 kB 4.8 MB/s eta 0:00:01\r\u001b[K     |██▉                             | 71 kB 5.4 MB/s eta 0:00:01\r\u001b[K     |███▎                            | 81 kB 5.0 MB/s eta 0:00:01\r\u001b[K     |███▋                            | 92 kB 5.6 MB/s eta 0:00:01\r\u001b[K     |████                            | 102 kB 4.9 MB/s eta 0:00:01\r\u001b[K     |████▍                           | 112 kB 4.9 MB/s eta 0:00:01\r\u001b[K     |████▉                           | 122 kB 4.9 MB/s eta 0:00:01\r\u001b[K     |█████▎                          | 133 kB 4.9 MB/s eta 0:00:01\r\u001b[K     |█████▋                          | 143 kB 4.9 MB/s eta 0:00:01\r\u001b[K     |██████                          | 153 kB 4.9 MB/s eta 0:00:01\r\u001b[K     |██████▌                         | 163 kB 4.9 MB/s eta 0:00:01\r\u001b[K     |██████▉                         | 174 kB 4.9 MB/s eta 0:00:01\r\u001b[K     |███████▎                        | 184 kB 4.9 MB/s eta 0:00:01\r\u001b[K     |███████▋                        | 194 kB 4.9 MB/s eta 0:00:01\r\u001b[K     |████████                        | 204 kB 4.9 MB/s eta 0:00:01\r\u001b[K     |████████▌                       | 215 kB 4.9 MB/s eta 0:00:01\r\u001b[K     |████████▉                       | 225 kB 4.9 MB/s eta 0:00:01\r\u001b[K     |█████████▎                      | 235 kB 4.9 MB/s eta 0:00:01\r\u001b[K     |█████████▊                      | 245 kB 4.9 MB/s eta 0:00:01\r\u001b[K     |██████████                      | 256 kB 4.9 MB/s eta 0:00:01\r\u001b[K     |██████████▌                     | 266 kB 4.9 MB/s eta 0:00:01\r\u001b[K     |██████████▉                     | 276 kB 4.9 MB/s eta 0:00:01\r\u001b[K     |███████████▎                    | 286 kB 4.9 MB/s eta 0:00:01\r\u001b[K     |███████████▊                    | 296 kB 4.9 MB/s eta 0:00:01\r\u001b[K     |████████████                    | 307 kB 4.9 MB/s eta 0:00:01\r\u001b[K     |████████████▌                   | 317 kB 4.9 MB/s eta 0:00:01\r\u001b[K     |█████████████                   | 327 kB 4.9 MB/s eta 0:00:01\r\u001b[K     |█████████████▎                  | 337 kB 4.9 MB/s eta 0:00:01\r\u001b[K     |█████████████▊                  | 348 kB 4.9 MB/s eta 0:00:01\r\u001b[K     |██████████████▏                 | 358 kB 4.9 MB/s eta 0:00:01\r\u001b[K     |██████████████▌                 | 368 kB 4.9 MB/s eta 0:00:01\r\u001b[K     |███████████████                 | 378 kB 4.9 MB/s eta 0:00:01\r\u001b[K     |███████████████▎                | 389 kB 4.9 MB/s eta 0:00:01\r\u001b[K     |███████████████▊                | 399 kB 4.9 MB/s eta 0:00:01\r\u001b[K     |████████████████▏               | 409 kB 4.9 MB/s eta 0:00:01\r\u001b[K     |████████████████▌               | 419 kB 4.9 MB/s eta 0:00:01\r\u001b[K     |█████████████████               | 430 kB 4.9 MB/s eta 0:00:01\r\u001b[K     |█████████████████▍              | 440 kB 4.9 MB/s eta 0:00:01\r\u001b[K     |█████████████████▊              | 450 kB 4.9 MB/s eta 0:00:01\r\u001b[K     |██████████████████▏             | 460 kB 4.9 MB/s eta 0:00:01\r\u001b[K     |██████████████████▌             | 471 kB 4.9 MB/s eta 0:00:01\r\u001b[K     |███████████████████             | 481 kB 4.9 MB/s eta 0:00:01\r\u001b[K     |███████████████████▍            | 491 kB 4.9 MB/s eta 0:00:01\r\u001b[K     |███████████████████▊            | 501 kB 4.9 MB/s eta 0:00:01\r\u001b[K     |████████████████████▏           | 512 kB 4.9 MB/s eta 0:00:01\r\u001b[K     |████████████████████▋           | 522 kB 4.9 MB/s eta 0:00:01\r\u001b[K     |█████████████████████           | 532 kB 4.9 MB/s eta 0:00:01\r\u001b[K     |█████████████████████▍          | 542 kB 4.9 MB/s eta 0:00:01\r\u001b[K     |█████████████████████▊          | 552 kB 4.9 MB/s eta 0:00:01\r\u001b[K     |██████████████████████▏         | 563 kB 4.9 MB/s eta 0:00:01\r\u001b[K     |██████████████████████▋         | 573 kB 4.9 MB/s eta 0:00:01\r\u001b[K     |███████████████████████         | 583 kB 4.9 MB/s eta 0:00:01\r\u001b[K     |███████████████████████▍        | 593 kB 4.9 MB/s eta 0:00:01\r\u001b[K     |███████████████████████▉        | 604 kB 4.9 MB/s eta 0:00:01\r\u001b[K     |████████████████████████▏       | 614 kB 4.9 MB/s eta 0:00:01\r\u001b[K     |████████████████████████▋       | 624 kB 4.9 MB/s eta 0:00:01\r\u001b[K     |█████████████████████████       | 634 kB 4.9 MB/s eta 0:00:01\r\u001b[K     |█████████████████████████▍      | 645 kB 4.9 MB/s eta 0:00:01\r\u001b[K     |█████████████████████████▉      | 655 kB 4.9 MB/s eta 0:00:01\r\u001b[K     |██████████████████████████▏     | 665 kB 4.9 MB/s eta 0:00:01\r\u001b[K     |██████████████████████████▋     | 675 kB 4.9 MB/s eta 0:00:01\r\u001b[K     |███████████████████████████     | 686 kB 4.9 MB/s eta 0:00:01\r\u001b[K     |███████████████████████████▍    | 696 kB 4.9 MB/s eta 0:00:01\r\u001b[K     |███████████████████████████▉    | 706 kB 4.9 MB/s eta 0:00:01\r\u001b[K     |████████████████████████████▎   | 716 kB 4.9 MB/s eta 0:00:01\r\u001b[K     |████████████████████████████▋   | 727 kB 4.9 MB/s eta 0:00:01\r\u001b[K     |█████████████████████████████   | 737 kB 4.9 MB/s eta 0:00:01\r\u001b[K     |█████████████████████████████▍  | 747 kB 4.9 MB/s eta 0:00:01\r\u001b[K     |█████████████████████████████▉  | 757 kB 4.9 MB/s eta 0:00:01\r\u001b[K     |██████████████████████████████▎ | 768 kB 4.9 MB/s eta 0:00:01\r\u001b[K     |██████████████████████████████▋ | 778 kB 4.9 MB/s eta 0:00:01\r\u001b[K     |███████████████████████████████ | 788 kB 4.9 MB/s eta 0:00:01\r\u001b[K     |███████████████████████████████▌| 798 kB 4.9 MB/s eta 0:00:01\r\u001b[K     |███████████████████████████████▉| 808 kB 4.9 MB/s eta 0:00:01\r\u001b[K     |████████████████████████████████| 812 kB 4.9 MB/s \n",
            "\u001b[?25hRequirement already satisfied: six in /usr/local/lib/python3.7/dist-packages (from imagehash) (1.15.0)\n",
            "Requirement already satisfied: numpy in /usr/local/lib/python3.7/dist-packages (from imagehash) (1.21.6)\n",
            "Requirement already satisfied: scipy in /usr/local/lib/python3.7/dist-packages (from imagehash) (1.4.1)\n",
            "Requirement already satisfied: pillow in /usr/local/lib/python3.7/dist-packages (from imagehash) (7.1.2)\n",
            "Requirement already satisfied: PyWavelets in /usr/local/lib/python3.7/dist-packages (from imagehash) (1.3.0)\n",
            "Building wheels for collected packages: imagehash\n",
            "  Building wheel for imagehash (setup.py) ... \u001b[?25l\u001b[?25hdone\n",
            "  Created wheel for imagehash: filename=ImageHash-4.2.1-py2.py3-none-any.whl size=295206 sha256=4f6675c8d1efcd7d5bdbac264cb020fb1813b18e85e1748660955767a64ae2dc\n",
            "  Stored in directory: /root/.cache/pip/wheels/4c/d5/59/5e3e297533ddb09407769762985d134135064c6831e29a914e\n",
            "Successfully built imagehash\n",
            "Installing collected packages: imagehash\n",
            "Successfully installed imagehash-4.2.1\n"
          ]
        }
      ]
    },
    {
      "cell_type": "code",
      "source": [
        "!pip install tensorflow-addons\n",
        "import tensorflow_addons as tfa"
      ],
      "metadata": {
        "colab": {
          "base_uri": "https://localhost:8080/"
        },
        "id": "pbwTThT_2G4H",
        "outputId": "1758691b-6233-4184-889c-6c345c780312"
      },
      "execution_count": null,
      "outputs": [
        {
          "output_type": "stream",
          "name": "stdout",
          "text": [
            "Collecting tensorflow-addons\n",
            "  Downloading tensorflow_addons-0.16.1-cp37-cp37m-manylinux_2_12_x86_64.manylinux2010_x86_64.whl (1.1 MB)\n",
            "\u001b[?25l\r\u001b[K     |▎                               | 10 kB 14.3 MB/s eta 0:00:01\r\u001b[K     |▋                               | 20 kB 13.2 MB/s eta 0:00:01\r\u001b[K     |▉                               | 30 kB 9.8 MB/s eta 0:00:01\r\u001b[K     |█▏                              | 40 kB 4.7 MB/s eta 0:00:01\r\u001b[K     |█▌                              | 51 kB 4.6 MB/s eta 0:00:01\r\u001b[K     |█▊                              | 61 kB 5.4 MB/s eta 0:00:01\r\u001b[K     |██                              | 71 kB 5.9 MB/s eta 0:00:01\r\u001b[K     |██▍                             | 81 kB 5.6 MB/s eta 0:00:01\r\u001b[K     |██▋                             | 92 kB 6.2 MB/s eta 0:00:01\r\u001b[K     |███                             | 102 kB 5.4 MB/s eta 0:00:01\r\u001b[K     |███▏                            | 112 kB 5.4 MB/s eta 0:00:01\r\u001b[K     |███▌                            | 122 kB 5.4 MB/s eta 0:00:01\r\u001b[K     |███▉                            | 133 kB 5.4 MB/s eta 0:00:01\r\u001b[K     |████                            | 143 kB 5.4 MB/s eta 0:00:01\r\u001b[K     |████▍                           | 153 kB 5.4 MB/s eta 0:00:01\r\u001b[K     |████▊                           | 163 kB 5.4 MB/s eta 0:00:01\r\u001b[K     |█████                           | 174 kB 5.4 MB/s eta 0:00:01\r\u001b[K     |█████▎                          | 184 kB 5.4 MB/s eta 0:00:01\r\u001b[K     |█████▌                          | 194 kB 5.4 MB/s eta 0:00:01\r\u001b[K     |█████▉                          | 204 kB 5.4 MB/s eta 0:00:01\r\u001b[K     |██████▏                         | 215 kB 5.4 MB/s eta 0:00:01\r\u001b[K     |██████▍                         | 225 kB 5.4 MB/s eta 0:00:01\r\u001b[K     |██████▊                         | 235 kB 5.4 MB/s eta 0:00:01\r\u001b[K     |███████                         | 245 kB 5.4 MB/s eta 0:00:01\r\u001b[K     |███████▎                        | 256 kB 5.4 MB/s eta 0:00:01\r\u001b[K     |███████▋                        | 266 kB 5.4 MB/s eta 0:00:01\r\u001b[K     |███████▉                        | 276 kB 5.4 MB/s eta 0:00:01\r\u001b[K     |████████▏                       | 286 kB 5.4 MB/s eta 0:00:01\r\u001b[K     |████████▌                       | 296 kB 5.4 MB/s eta 0:00:01\r\u001b[K     |████████▊                       | 307 kB 5.4 MB/s eta 0:00:01\r\u001b[K     |█████████                       | 317 kB 5.4 MB/s eta 0:00:01\r\u001b[K     |█████████▍                      | 327 kB 5.4 MB/s eta 0:00:01\r\u001b[K     |█████████▋                      | 337 kB 5.4 MB/s eta 0:00:01\r\u001b[K     |██████████                      | 348 kB 5.4 MB/s eta 0:00:01\r\u001b[K     |██████████▏                     | 358 kB 5.4 MB/s eta 0:00:01\r\u001b[K     |██████████▌                     | 368 kB 5.4 MB/s eta 0:00:01\r\u001b[K     |██████████▉                     | 378 kB 5.4 MB/s eta 0:00:01\r\u001b[K     |███████████                     | 389 kB 5.4 MB/s eta 0:00:01\r\u001b[K     |███████████▍                    | 399 kB 5.4 MB/s eta 0:00:01\r\u001b[K     |███████████▊                    | 409 kB 5.4 MB/s eta 0:00:01\r\u001b[K     |████████████                    | 419 kB 5.4 MB/s eta 0:00:01\r\u001b[K     |████████████▎                   | 430 kB 5.4 MB/s eta 0:00:01\r\u001b[K     |████████████▌                   | 440 kB 5.4 MB/s eta 0:00:01\r\u001b[K     |████████████▉                   | 450 kB 5.4 MB/s eta 0:00:01\r\u001b[K     |█████████████▏                  | 460 kB 5.4 MB/s eta 0:00:01\r\u001b[K     |█████████████▍                  | 471 kB 5.4 MB/s eta 0:00:01\r\u001b[K     |█████████████▊                  | 481 kB 5.4 MB/s eta 0:00:01\r\u001b[K     |██████████████                  | 491 kB 5.4 MB/s eta 0:00:01\r\u001b[K     |██████████████▎                 | 501 kB 5.4 MB/s eta 0:00:01\r\u001b[K     |██████████████▋                 | 512 kB 5.4 MB/s eta 0:00:01\r\u001b[K     |██████████████▉                 | 522 kB 5.4 MB/s eta 0:00:01\r\u001b[K     |███████████████▏                | 532 kB 5.4 MB/s eta 0:00:01\r\u001b[K     |███████████████▌                | 542 kB 5.4 MB/s eta 0:00:01\r\u001b[K     |███████████████▊                | 552 kB 5.4 MB/s eta 0:00:01\r\u001b[K     |████████████████                | 563 kB 5.4 MB/s eta 0:00:01\r\u001b[K     |████████████████▍               | 573 kB 5.4 MB/s eta 0:00:01\r\u001b[K     |████████████████▋               | 583 kB 5.4 MB/s eta 0:00:01\r\u001b[K     |█████████████████               | 593 kB 5.4 MB/s eta 0:00:01\r\u001b[K     |█████████████████▏              | 604 kB 5.4 MB/s eta 0:00:01\r\u001b[K     |█████████████████▌              | 614 kB 5.4 MB/s eta 0:00:01\r\u001b[K     |█████████████████▉              | 624 kB 5.4 MB/s eta 0:00:01\r\u001b[K     |██████████████████              | 634 kB 5.4 MB/s eta 0:00:01\r\u001b[K     |██████████████████▍             | 645 kB 5.4 MB/s eta 0:00:01\r\u001b[K     |██████████████████▊             | 655 kB 5.4 MB/s eta 0:00:01\r\u001b[K     |███████████████████             | 665 kB 5.4 MB/s eta 0:00:01\r\u001b[K     |███████████████████▎            | 675 kB 5.4 MB/s eta 0:00:01\r\u001b[K     |███████████████████▌            | 686 kB 5.4 MB/s eta 0:00:01\r\u001b[K     |███████████████████▉            | 696 kB 5.4 MB/s eta 0:00:01\r\u001b[K     |████████████████████▏           | 706 kB 5.4 MB/s eta 0:00:01\r\u001b[K     |████████████████████▍           | 716 kB 5.4 MB/s eta 0:00:01\r\u001b[K     |████████████████████▊           | 727 kB 5.4 MB/s eta 0:00:01\r\u001b[K     |█████████████████████           | 737 kB 5.4 MB/s eta 0:00:01\r\u001b[K     |█████████████████████▎          | 747 kB 5.4 MB/s eta 0:00:01\r\u001b[K     |█████████████████████▋          | 757 kB 5.4 MB/s eta 0:00:01\r\u001b[K     |█████████████████████▉          | 768 kB 5.4 MB/s eta 0:00:01\r\u001b[K     |██████████████████████▏         | 778 kB 5.4 MB/s eta 0:00:01\r\u001b[K     |██████████████████████▌         | 788 kB 5.4 MB/s eta 0:00:01\r\u001b[K     |██████████████████████▊         | 798 kB 5.4 MB/s eta 0:00:01\r\u001b[K     |███████████████████████         | 808 kB 5.4 MB/s eta 0:00:01\r\u001b[K     |███████████████████████▍        | 819 kB 5.4 MB/s eta 0:00:01\r\u001b[K     |███████████████████████▋        | 829 kB 5.4 MB/s eta 0:00:01\r\u001b[K     |████████████████████████        | 839 kB 5.4 MB/s eta 0:00:01\r\u001b[K     |████████████████████████▏       | 849 kB 5.4 MB/s eta 0:00:01\r\u001b[K     |████████████████████████▌       | 860 kB 5.4 MB/s eta 0:00:01\r\u001b[K     |████████████████████████▉       | 870 kB 5.4 MB/s eta 0:00:01\r\u001b[K     |█████████████████████████       | 880 kB 5.4 MB/s eta 0:00:01\r\u001b[K     |█████████████████████████▍      | 890 kB 5.4 MB/s eta 0:00:01\r\u001b[K     |█████████████████████████▊      | 901 kB 5.4 MB/s eta 0:00:01\r\u001b[K     |██████████████████████████      | 911 kB 5.4 MB/s eta 0:00:01\r\u001b[K     |██████████████████████████▎     | 921 kB 5.4 MB/s eta 0:00:01\r\u001b[K     |██████████████████████████▌     | 931 kB 5.4 MB/s eta 0:00:01\r\u001b[K     |██████████████████████████▉     | 942 kB 5.4 MB/s eta 0:00:01\r\u001b[K     |███████████████████████████▏    | 952 kB 5.4 MB/s eta 0:00:01\r\u001b[K     |███████████████████████████▍    | 962 kB 5.4 MB/s eta 0:00:01\r\u001b[K     |███████████████████████████▊    | 972 kB 5.4 MB/s eta 0:00:01\r\u001b[K     |████████████████████████████    | 983 kB 5.4 MB/s eta 0:00:01\r\u001b[K     |████████████████████████████▎   | 993 kB 5.4 MB/s eta 0:00:01\r\u001b[K     |████████████████████████████▋   | 1.0 MB 5.4 MB/s eta 0:00:01\r\u001b[K     |████████████████████████████▉   | 1.0 MB 5.4 MB/s eta 0:00:01\r\u001b[K     |█████████████████████████████▏  | 1.0 MB 5.4 MB/s eta 0:00:01\r\u001b[K     |█████████████████████████████▌  | 1.0 MB 5.4 MB/s eta 0:00:01\r\u001b[K     |█████████████████████████████▊  | 1.0 MB 5.4 MB/s eta 0:00:01\r\u001b[K     |██████████████████████████████  | 1.1 MB 5.4 MB/s eta 0:00:01\r\u001b[K     |██████████████████████████████▍ | 1.1 MB 5.4 MB/s eta 0:00:01\r\u001b[K     |██████████████████████████████▋ | 1.1 MB 5.4 MB/s eta 0:00:01\r\u001b[K     |███████████████████████████████ | 1.1 MB 5.4 MB/s eta 0:00:01\r\u001b[K     |███████████████████████████████▏| 1.1 MB 5.4 MB/s eta 0:00:01\r\u001b[K     |███████████████████████████████▌| 1.1 MB 5.4 MB/s eta 0:00:01\r\u001b[K     |███████████████████████████████▉| 1.1 MB 5.4 MB/s eta 0:00:01\r\u001b[K     |████████████████████████████████| 1.1 MB 5.4 MB/s \n",
            "\u001b[?25hRequirement already satisfied: typeguard>=2.7 in /usr/local/lib/python3.7/dist-packages (from tensorflow-addons) (2.7.1)\n",
            "Installing collected packages: tensorflow-addons\n",
            "Successfully installed tensorflow-addons-0.16.1\n"
          ]
        }
      ]
    },
    {
      "cell_type": "code",
      "source": [
        "import cv2\n",
        "import numpy as np\n",
        "import json\n",
        "import os\n",
        "import random\n",
        "import tensorflow as tf\n",
        "from keras.utils import np_utils\n",
        "from keras.models import Model, Sequential, load_model\n",
        "from keras.layers import Dense, Conv2D, MaxPooling2D, Flatten, Reshape, Dropout, GlobalMaxPooling2D\n",
        "from keras.preprocessing.image import ImageDataGenerator\n",
        "from keras.applications.vgg16 import VGG16\n",
        "from keras.applications.vgg19 import VGG19, preprocess_input\n",
        "from keras.applications.resnet import ResNet50\n",
        "from sklearn.metrics import confusion_matrix, classification_report\n",
        "import itertools\n",
        "import pandas as pd\n",
        "import matplotlib.pyplot as plt\n",
        "from keras.callbacks import EarlyStopping\n",
        "import seaborn as sns\n",
        "import shutil\n",
        "import keras\n",
        "from PIL import Image\n",
        "from matplotlib import image\n",
        "from sklearn.cluster import AgglomerativeClustering\n",
        "from tensorflow.keras.preprocessing.image import ImageDataGenerator\n",
        "from keras.applications.vgg19 import VGG19, preprocess_input\n",
        "from tensorflow.keras.optimizers import Adam"
      ],
      "metadata": {
        "id": "q8fusBctbTGr"
      },
      "execution_count": null,
      "outputs": []
    },
    {
      "cell_type": "code",
      "source": [
        "path = '/content/drive/MyDrive/CV_Images'"
      ],
      "metadata": {
        "id": "iSRqM0IkbYDl"
      },
      "execution_count": null,
      "outputs": []
    },
    {
      "cell_type": "code",
      "source": [
        "def data_loader(path, data_name, img_size): # data_name = 'cropped_train', # img_size = 128 \n",
        "  all_images = []\n",
        "  # all_files = ['1040','1019', '1015', '1004', '1005','1039','1017','1021']\n",
        "  all_files = ['1040','1019', '1015', '1004', '1005','1039','1017','1021','1001','1007','1018']\n",
        "  for label_folder in all_files:\n",
        "    inside_path = path+'/'+ label_folder +'/'+ data_name\n",
        "    fold = os.listdir(inside_path)\n",
        "    for img  in fold:\n",
        "      ext = os.path.splitext(img)[-1]\n",
        "      if ext in ['.jpg', '.JPG']: # only jpg files no json files\n",
        "        try:\n",
        "          img_arr = cv2.imread(os.path.join(inside_path, img))\n",
        "          #print(img_arr.shape)\n",
        "          new_arr = cv2.resize(img_arr, (img_size, img_size)) \n",
        "          all_images.append([new_arr, label_folder])  \n",
        "        except:\n",
        "          pass \n",
        "    print(label_folder,data_name,len(all_images))\n",
        "    random.shuffle(all_images)\n",
        "  return all_images\n",
        "\n",
        "\n",
        "# rename cropped_train to folder name which you want to run\n",
        "# img_train = data_loader(path, 'train', 224)\n",
        "# img_test_cr = data_loader(path, 'cropped_test', 224)\n",
        "# img_test_uncr = data_loader(path, 'uncropped_test', 224)"
      ],
      "metadata": {
        "id": "lu__Rv_xbaxA"
      },
      "execution_count": null,
      "outputs": []
    },
    {
      "cell_type": "code",
      "source": [
        "# label_dict = {'1040':0, '1019':1, '1015':2, '1004':3, '1005':4, \n",
        "#               '1039':5, '1017':6, '1021':7}#, '1018':8}  #'1008':8, # add the label in the dictionary #'1004':0, '1005':1, \n",
        "\n",
        "label_dict = {'1040':0, '1019':1, '1015':2, '1004':3, '1005':4, '1039':5, '1017':6,'1021':7,'1001':8,'1007':9,'1018':10} \n",
        "\n",
        "\n",
        "classes  = 11 #7 #6 #5 #2 # 4\n",
        "def preprocesing(data, num_class):\n",
        "  X, y = [], []\n",
        "  for features, label in data:\n",
        "    X.append(features)                 \n",
        "    y.append(label)  \n",
        "  X = np.array(X).reshape(-1, 224, 224, 3)\n",
        "  encoding =np.vectorize(label_dict.get)(y) # label encoding\n",
        "  y = np.array(encoding)\n",
        "  y = tf.keras.utils.to_categorical(y, num_classes=num_class) # one hot encoding\n",
        "  print(\"The shape of the dataset:\", X.shape)\n",
        "  print(\"The shape of the label dataset:\", y.shape)\n",
        "  #X = X/255\n",
        "  return X, y\n",
        "\n",
        "# X_train, y_train = preprocesing(img_train,classes)\n",
        "# X_test_cr, y_test_cr = preprocesing(img_test_cr,classes)\n",
        "# X_test_uncr, y_test_uncr = preprocesing(img_test_uncr,classes)"
      ],
      "metadata": {
        "id": "cxsBwbiwbrtk"
      },
      "execution_count": null,
      "outputs": []
    },
    {
      "cell_type": "code",
      "source": [
        "# np.save('/content/drive/MyDrive/CV_Images_npy_11/X_train', X_train)\n",
        "# np.save('/content/drive/MyDrive/CV_Images_npy_11/y_train', y_train)\n",
        "# np.save('/content/drive/MyDrive/CV_Images_npy_11/X_test_cr', X_test_cr)\n",
        "# np.save('/content/drive/MyDrive/CV_Images_npy_11/y_test_cr', y_test_cr)\n",
        "# np.save('/content/drive/MyDrive/CV_Images_npy_11/X_test_uncr', X_test_uncr)\n",
        "# np.save('/content/drive/MyDrive/CV_Images_npy_11/y_test_uncr', y_test_uncr)\n",
        "\n",
        "# Load data from npy files\n",
        "\n",
        "X_train = np.load('/content/drive/MyDrive/CV_Images_npy_11/X_train.npy')\n",
        "y_train = np.load('/content/drive/MyDrive/CV_Images_npy_11/y_train.npy')\n",
        "X_test_cr = np.load('/content/drive/MyDrive/CV_Images_npy_11/X_test_cr.npy')\n",
        "y_test_cr = np.load('/content/drive/MyDrive/CV_Images_npy_11/y_test_cr.npy')\n",
        "X_test_uncr = np.load('/content/drive/MyDrive/CV_Images_npy_11/X_test_uncr.npy')\n",
        "y_test_uncr = np.load('/content/drive/MyDrive/CV_Images_npy_11/y_test_uncr.npy')"
      ],
      "metadata": {
        "id": "ty5Urlu6yWZ_"
      },
      "execution_count": null,
      "outputs": []
    },
    {
      "cell_type": "code",
      "source": [
        "X_train = preprocess_input(X_train)\n",
        "X_test_cr = preprocess_input(X_test_cr)\n",
        "X_test_uncr = preprocess_input(X_test_uncr)"
      ],
      "metadata": {
        "id": "hvYRXCcEcXne"
      },
      "execution_count": null,
      "outputs": []
    },
    {
      "cell_type": "code",
      "source": [
        "He_initializer = tf.keras.initializers.HeNormal()\n",
        "def getVGG19Model(lastFourTrainable=False):\n",
        "  #vgg_model = VGG16(weights='imagenet', input_shape=X_train[0].shape, include_top=True)\n",
        "  vgg_model = VGG19(weights='imagenet', input_shape=X_train[0].shape, include_top=True)\n",
        "\n",
        "  # Make all layers untrainable\n",
        "  for layer in vgg_model.layers[:]:\n",
        "      layer.trainable = False\n",
        "\n",
        "  # Add fully connected layer which have 1024 neuron to VGG-19 model\n",
        "  output = vgg_model.get_layer('fc2').output\n",
        "  output = Flatten(name='new_flatten')(output)\n",
        "  output = Dense(units=1024, activation='relu', name='new_fc',kernel_initializer= He_initializer)(output)\n",
        "  output = Dense(units=11, activation='softmax',kernel_initializer= He_initializer)(output)\n",
        "  vgg_model = Model(vgg_model.input, output)\n",
        "\n",
        "  # Make last 4 layers trainable if lastFourTrainable == True\n",
        "  if lastFourTrainable == True:\n",
        "    vgg_model.get_layer('block5_conv4').trainable = True\n",
        "    vgg_model.get_layer('fc1').trainable = True\n",
        "    vgg_model.get_layer('fc2').trainable = True\n",
        "    vgg_model.get_layer('new_fc').trainable = True\n",
        "  \n",
        "  # optimizers = [\n",
        "  #    tf.keras.optimizers.Adam(learning_rate=1e-6),\n",
        "  #    tf.keras.optimizers.Adam(learning_rate=1e-3)]\n",
        "\n",
        "  # optimizers_and_layers = [(optimizers[1], vgg_model.layers[-1]),(optimizers[1], vgg_model.layers[-2]),\n",
        "  #                           (optimizers[0], vgg_model.layers[-4]), (optimizers[0], vgg_model.layers[-5]),\n",
        "  #                           (optimizers[0], vgg_model.layers[-8])]\n",
        "  # optimizer = tfa.optimizers.MultiOptimizer(optimizers_and_layers)\n",
        "\n",
        "  \n",
        "\n",
        "\n",
        "  # Compile VGG-19 model\n",
        "  vgg_model.compile(optimizer='adam', loss='categorical_crossentropy', metrics=['accuracy'])\n",
        "  # vgg_model.summary()\n",
        "\n",
        "  return vgg_model"
      ],
      "metadata": {
        "id": "dDJ9an1WAmyQ"
      },
      "execution_count": null,
      "outputs": []
    },
    {
      "cell_type": "markdown",
      "source": [
        "# Without Augmentation"
      ],
      "metadata": {
        "id": "kdWaNksyA44F"
      }
    },
    {
      "cell_type": "code",
      "source": [
        "vgg19_model = getVGG19Model()"
      ],
      "metadata": {
        "id": "I-BG6pxIAtbA"
      },
      "execution_count": null,
      "outputs": []
    },
    {
      "cell_type": "code",
      "source": [
        "es = EarlyStopping(monitor='val_accuracy', mode='max', patience=5,  restore_best_weights=True)\n",
        "\n",
        "vgg19_model.fit(X_train, y_train, batch_size=50, epochs=40, validation_data=(X_test_uncr, y_test_uncr), callbacks=[es])"
      ],
      "metadata": {
        "colab": {
          "base_uri": "https://localhost:8080/"
        },
        "id": "5PjZI65wAwPw",
        "outputId": "651769e9-a71b-4018-cca8-2db24b119b3f"
      },
      "execution_count": null,
      "outputs": [
        {
          "output_type": "stream",
          "name": "stdout",
          "text": [
            "Epoch 1/40\n",
            "18/18 [==============================] - 21s 1s/step - loss: 7.6588 - accuracy: 0.5916 - val_loss: 3.2791 - val_accuracy: 0.5982\n",
            "Epoch 2/40\n",
            "18/18 [==============================] - 15s 838ms/step - loss: 0.6843 - accuracy: 0.8544 - val_loss: 1.2448 - val_accuracy: 0.7055\n",
            "Epoch 3/40\n",
            "18/18 [==============================] - 15s 838ms/step - loss: 0.1022 - accuracy: 0.9727 - val_loss: 0.9334 - val_accuracy: 0.7761\n",
            "Epoch 4/40\n",
            "18/18 [==============================] - 15s 834ms/step - loss: 0.0164 - accuracy: 0.9932 - val_loss: 0.7594 - val_accuracy: 0.8313\n",
            "Epoch 5/40\n",
            "18/18 [==============================] - 15s 820ms/step - loss: 0.0046 - accuracy: 0.9989 - val_loss: 0.9135 - val_accuracy: 0.7914\n",
            "Epoch 6/40\n",
            "18/18 [==============================] - 15s 822ms/step - loss: 0.0016 - accuracy: 1.0000 - val_loss: 0.8742 - val_accuracy: 0.8006\n",
            "Epoch 7/40\n",
            "18/18 [==============================] - 15s 820ms/step - loss: 0.0011 - accuracy: 1.0000 - val_loss: 0.9241 - val_accuracy: 0.7883\n",
            "Epoch 8/40\n",
            "18/18 [==============================] - 15s 819ms/step - loss: 8.7096e-04 - accuracy: 1.0000 - val_loss: 0.9067 - val_accuracy: 0.7975\n",
            "Epoch 9/40\n",
            "18/18 [==============================] - 15s 827ms/step - loss: 7.5431e-04 - accuracy: 1.0000 - val_loss: 0.8953 - val_accuracy: 0.8006\n"
          ]
        },
        {
          "output_type": "execute_result",
          "data": {
            "text/plain": [
              "<keras.callbacks.History at 0x7fa3f3332390>"
            ]
          },
          "metadata": {},
          "execution_count": 61
        }
      ]
    },
    {
      "cell_type": "code",
      "source": [
        "y_pred_cr = vgg19_model.predict(X_test_cr)\n",
        "y_pred_uncr = vgg19_model.predict(X_test_uncr)\n",
        "\n",
        "_, acc = vgg19_model.evaluate(X_test_cr, y_test_cr, verbose=0)\n",
        "print('> %.3f' % (acc * 100.0))\n",
        "\n",
        "_, acc = vgg19_model.evaluate(X_test_uncr, y_test_uncr, verbose=0)\n",
        "print('> %.3f' % (acc * 100.0))"
      ],
      "metadata": {
        "colab": {
          "base_uri": "https://localhost:8080/"
        },
        "id": "3b0tslVuAkuG",
        "outputId": "075768fc-75f5-4b51-88e4-b12eb8a301ef"
      },
      "execution_count": null,
      "outputs": [
        {
          "output_type": "stream",
          "name": "stdout",
          "text": [
            "> 90.491\n",
            "> 83.129\n"
          ]
        }
      ]
    },
    {
      "cell_type": "markdown",
      "source": [
        "# Default Augmentation"
      ],
      "metadata": {
        "id": "atMmTv0hBPlr"
      }
    },
    {
      "cell_type": "code",
      "source": [
        "X_train_dg = ImageDataGenerator()\n",
        "X_train_dg.fit(X_train)"
      ],
      "metadata": {
        "id": "gQSeHrrFddY0"
      },
      "execution_count": null,
      "outputs": []
    },
    {
      "cell_type": "code",
      "source": [
        "vgg19_model = getVGG19Model()"
      ],
      "metadata": {
        "id": "ZG_HTWKBtApl"
      },
      "execution_count": null,
      "outputs": []
    },
    {
      "cell_type": "code",
      "source": [
        "es = EarlyStopping(monitor='val_accuracy', mode='max', patience=5,  restore_best_weights=True)\n",
        "\n",
        "vgg19_model.fit(X_train_dg.flow(X_train, y_train), batch_size=50, epochs=40, validation_data=(X_test_uncr, y_test_uncr), callbacks=[es])"
      ],
      "metadata": {
        "colab": {
          "base_uri": "https://localhost:8080/"
        },
        "id": "ViP72cdQtDHk",
        "outputId": "429627dd-126b-4897-bb3b-e5f870f8431b"
      },
      "execution_count": null,
      "outputs": [
        {
          "output_type": "stream",
          "name": "stdout",
          "text": [
            "Epoch 1/40\n",
            "28/28 [==============================] - 16s 544ms/step - loss: 4.3412 - accuracy: 0.6633 - val_loss: 1.3884 - val_accuracy: 0.7055\n",
            "Epoch 2/40\n",
            "28/28 [==============================] - 14s 492ms/step - loss: 0.1170 - accuracy: 0.9636 - val_loss: 1.3424 - val_accuracy: 0.6963\n",
            "Epoch 3/40\n",
            "28/28 [==============================] - 14s 508ms/step - loss: 0.0419 - accuracy: 0.9841 - val_loss: 1.0076 - val_accuracy: 0.7147\n",
            "Epoch 4/40\n",
            "28/28 [==============================] - 14s 500ms/step - loss: 0.0085 - accuracy: 0.9989 - val_loss: 1.0190 - val_accuracy: 0.7209\n",
            "Epoch 5/40\n",
            "28/28 [==============================] - 14s 500ms/step - loss: 0.0018 - accuracy: 1.0000 - val_loss: 1.0071 - val_accuracy: 0.7362\n",
            "Epoch 6/40\n",
            "28/28 [==============================] - 14s 499ms/step - loss: 7.7611e-04 - accuracy: 1.0000 - val_loss: 1.0128 - val_accuracy: 0.7485\n",
            "Epoch 7/40\n",
            "28/28 [==============================] - 14s 491ms/step - loss: 5.1704e-04 - accuracy: 1.0000 - val_loss: 1.0504 - val_accuracy: 0.7454\n",
            "Epoch 8/40\n",
            "28/28 [==============================] - 14s 490ms/step - loss: 4.5852e-04 - accuracy: 1.0000 - val_loss: 1.0466 - val_accuracy: 0.7423\n",
            "Epoch 9/40\n",
            "28/28 [==============================] - 14s 491ms/step - loss: 4.1218e-04 - accuracy: 1.0000 - val_loss: 1.0464 - val_accuracy: 0.7393\n",
            "Epoch 10/40\n",
            "28/28 [==============================] - 14s 491ms/step - loss: 3.8069e-04 - accuracy: 1.0000 - val_loss: 1.0517 - val_accuracy: 0.7454\n",
            "Epoch 11/40\n",
            "28/28 [==============================] - 14s 495ms/step - loss: 3.4867e-04 - accuracy: 1.0000 - val_loss: 1.0530 - val_accuracy: 0.7362\n"
          ]
        },
        {
          "output_type": "execute_result",
          "data": {
            "text/plain": [
              "<keras.callbacks.History at 0x7fa3f2f4e3d0>"
            ]
          },
          "metadata": {},
          "execution_count": 65
        }
      ]
    },
    {
      "cell_type": "code",
      "source": [
        "y_pred_cr = vgg19_model.predict(X_test_cr)\n",
        "y_pred_uncr = vgg19_model.predict(X_test_uncr)\n",
        "\n",
        "_, acc = vgg19_model.evaluate(X_test_cr, y_test_cr, verbose=0)\n",
        "print('> %.3f' % (acc * 100.0))\n",
        "\n",
        "_, acc = vgg19_model.evaluate(X_test_uncr, y_test_uncr, verbose=0)\n",
        "print('> %.3f' % (acc * 100.0))"
      ],
      "metadata": {
        "colab": {
          "base_uri": "https://localhost:8080/"
        },
        "id": "5b2pidNbtIwh",
        "outputId": "f2b96c51-fb05-4a0d-8677-4a515f04dbae"
      },
      "execution_count": null,
      "outputs": [
        {
          "output_type": "stream",
          "name": "stdout",
          "text": [
            "> 91.104\n",
            "> 74.847\n"
          ]
        }
      ]
    },
    {
      "cell_type": "markdown",
      "source": [
        "# Augmentation 2"
      ],
      "metadata": {
        "id": "R5B8ie4jBlOn"
      }
    },
    {
      "cell_type": "code",
      "source": [
        "X_train_dg = ImageDataGenerator(horizontal_flip=True)\n",
        "X_train_dg.fit(X_train)"
      ],
      "metadata": {
        "id": "k_mrUv-ZBoEt"
      },
      "execution_count": null,
      "outputs": []
    },
    {
      "cell_type": "code",
      "source": [
        "vgg19_model = getVGG19Model()"
      ],
      "metadata": {
        "id": "yIuqJFwiBso0"
      },
      "execution_count": null,
      "outputs": []
    },
    {
      "cell_type": "code",
      "source": [
        "es = EarlyStopping(monitor='val_accuracy', mode='max', patience=5,  restore_best_weights=True)\n",
        "\n",
        "vgg19_model.fit(X_train_dg.flow(X_train, y_train), batch_size=50, epochs=40, validation_data=(X_test_uncr, y_test_uncr), callbacks=[es])"
      ],
      "metadata": {
        "colab": {
          "base_uri": "https://localhost:8080/"
        },
        "id": "_uTAItuRBuE1",
        "outputId": "f356ce83-a349-403c-b0a4-475056c7868d"
      },
      "execution_count": null,
      "outputs": [
        {
          "output_type": "stream",
          "name": "stdout",
          "text": [
            "Epoch 1/40\n",
            "28/28 [==============================] - 99s 555ms/step - loss: 4.4007 - accuracy: 0.5904 - val_loss: 2.0983 - val_accuracy: 0.6411\n",
            "Epoch 2/40\n",
            "28/28 [==============================] - 14s 502ms/step - loss: 0.1355 - accuracy: 0.9647 - val_loss: 1.3685 - val_accuracy: 0.7147\n",
            "Epoch 3/40\n",
            "28/28 [==============================] - 14s 502ms/step - loss: 0.0225 - accuracy: 0.9943 - val_loss: 1.0976 - val_accuracy: 0.7546\n",
            "Epoch 4/40\n",
            "28/28 [==============================] - 14s 501ms/step - loss: 0.0248 - accuracy: 0.9886 - val_loss: 0.9994 - val_accuracy: 0.7638\n",
            "Epoch 5/40\n",
            "28/28 [==============================] - 14s 491ms/step - loss: 0.0237 - accuracy: 0.9932 - val_loss: 1.4669 - val_accuracy: 0.7270\n",
            "Epoch 6/40\n",
            "28/28 [==============================] - 14s 492ms/step - loss: 0.0147 - accuracy: 0.9943 - val_loss: 1.1664 - val_accuracy: 0.7393\n",
            "Epoch 7/40\n",
            "28/28 [==============================] - 14s 491ms/step - loss: 0.0387 - accuracy: 0.9886 - val_loss: 1.0455 - val_accuracy: 0.7515\n",
            "Epoch 8/40\n",
            "28/28 [==============================] - 14s 493ms/step - loss: 0.1226 - accuracy: 0.9659 - val_loss: 1.4192 - val_accuracy: 0.6810\n",
            "Epoch 9/40\n",
            "28/28 [==============================] - 14s 495ms/step - loss: 0.0107 - accuracy: 0.9954 - val_loss: 1.2442 - val_accuracy: 0.7515\n"
          ]
        },
        {
          "output_type": "execute_result",
          "data": {
            "text/plain": [
              "<keras.callbacks.History at 0x7fa3f327c490>"
            ]
          },
          "metadata": {},
          "execution_count": 69
        }
      ]
    },
    {
      "cell_type": "code",
      "source": [
        "y_pred_cr = vgg19_model.predict(X_test_cr)\n",
        "y_pred_uncr = vgg19_model.predict(X_test_uncr)\n",
        "\n",
        "_, acc = vgg19_model.evaluate(X_test_cr, y_test_cr, verbose=0)\n",
        "print('> %.3f' % (acc * 100.0))\n",
        "\n",
        "_, acc = vgg19_model.evaluate(X_test_uncr, y_test_uncr, verbose=0)\n",
        "print('> %.3f' % (acc * 100.0))"
      ],
      "metadata": {
        "colab": {
          "base_uri": "https://localhost:8080/"
        },
        "id": "qJPWw9sStL9e",
        "outputId": "1affd30d-13c4-4f06-e3fc-c55d61c6bc77"
      },
      "execution_count": null,
      "outputs": [
        {
          "output_type": "stream",
          "name": "stdout",
          "text": [
            "> 90.184\n",
            "> 76.380\n"
          ]
        }
      ]
    },
    {
      "cell_type": "markdown",
      "source": [
        "# Augmentation 3"
      ],
      "metadata": {
        "id": "R-RRTf16Bxpp"
      }
    },
    {
      "cell_type": "code",
      "source": [
        "X_train_dg = ImageDataGenerator(\n",
        "    featurewise_center=True,\n",
        "    featurewise_std_normalization=True,\n",
        "    rotation_range=20,\n",
        "    width_shift_range=0.2,\n",
        "    height_shift_range=0.2,\n",
        "    horizontal_flip=True,\n",
        "    validation_split=0.2\n",
        ")\n",
        "X_train_dg.fit(X_train)"
      ],
      "metadata": {
        "id": "eUBLHNTFtN6g"
      },
      "execution_count": null,
      "outputs": []
    },
    {
      "cell_type": "code",
      "source": [
        "vgg19_model = getVGG19Model()"
      ],
      "metadata": {
        "id": "oahcNuF0CUQk"
      },
      "execution_count": null,
      "outputs": []
    },
    {
      "cell_type": "code",
      "source": [
        "es = EarlyStopping(monitor='val_accuracy', mode='max', patience=5,  restore_best_weights=True)\n",
        "\n",
        "vgg19_model.fit(X_train_dg.flow(X_train, y_train), batch_size=50, epochs=40, validation_data=(X_test_uncr, y_test_uncr), callbacks=[es])"
      ],
      "metadata": {
        "colab": {
          "base_uri": "https://localhost:8080/"
        },
        "id": "NpkugqdaCXP6",
        "outputId": "1039c0e9-bb66-43f2-e5d9-041b1b5f2881"
      },
      "execution_count": null,
      "outputs": [
        {
          "output_type": "stream",
          "name": "stdout",
          "text": [
            "Epoch 1/40\n",
            "28/28 [==============================] - 20s 667ms/step - loss: 4.4272 - accuracy: 0.1968 - val_loss: 7.5494 - val_accuracy: 0.1196\n",
            "Epoch 2/40\n",
            "28/28 [==============================] - 19s 674ms/step - loss: 1.3628 - accuracy: 0.5802 - val_loss: 8.3118 - val_accuracy: 0.2025\n",
            "Epoch 3/40\n",
            "28/28 [==============================] - 20s 714ms/step - loss: 0.8841 - accuracy: 0.7941 - val_loss: 7.7359 - val_accuracy: 0.2975\n",
            "Epoch 4/40\n",
            "28/28 [==============================] - 18s 640ms/step - loss: 0.7035 - accuracy: 0.8168 - val_loss: 8.7657 - val_accuracy: 0.3252\n",
            "Epoch 5/40\n",
            "28/28 [==============================] - 18s 637ms/step - loss: 0.5222 - accuracy: 0.8874 - val_loss: 9.2549 - val_accuracy: 0.3374\n",
            "Epoch 6/40\n",
            "28/28 [==============================] - 18s 648ms/step - loss: 0.4552 - accuracy: 0.8874 - val_loss: 9.1268 - val_accuracy: 0.3681\n",
            "Epoch 7/40\n",
            "28/28 [==============================] - 18s 671ms/step - loss: 0.3844 - accuracy: 0.9067 - val_loss: 9.3682 - val_accuracy: 0.3712\n",
            "Epoch 8/40\n",
            "28/28 [==============================] - 18s 637ms/step - loss: 0.3195 - accuracy: 0.9283 - val_loss: 9.1439 - val_accuracy: 0.3865\n",
            "Epoch 9/40\n",
            "28/28 [==============================] - 18s 626ms/step - loss: 0.2995 - accuracy: 0.9135 - val_loss: 9.3440 - val_accuracy: 0.3712\n",
            "Epoch 10/40\n",
            "28/28 [==============================] - 18s 636ms/step - loss: 0.3496 - accuracy: 0.8896 - val_loss: 8.5428 - val_accuracy: 0.4110\n",
            "Epoch 11/40\n",
            "28/28 [==============================] - 18s 628ms/step - loss: 0.2930 - accuracy: 0.9033 - val_loss: 8.4864 - val_accuracy: 0.4110\n",
            "Epoch 12/40\n",
            "28/28 [==============================] - 18s 626ms/step - loss: 0.2606 - accuracy: 0.9135 - val_loss: 9.3484 - val_accuracy: 0.3681\n",
            "Epoch 13/40\n",
            "28/28 [==============================] - 18s 622ms/step - loss: 0.2591 - accuracy: 0.9226 - val_loss: 8.8818 - val_accuracy: 0.3896\n",
            "Epoch 14/40\n",
            "28/28 [==============================] - 17s 622ms/step - loss: 0.2301 - accuracy: 0.9295 - val_loss: 8.5538 - val_accuracy: 0.3896\n",
            "Epoch 15/40\n",
            "28/28 [==============================] - 18s 624ms/step - loss: 0.2576 - accuracy: 0.9158 - val_loss: 9.7822 - val_accuracy: 0.3773\n"
          ]
        },
        {
          "output_type": "execute_result",
          "data": {
            "text/plain": [
              "<keras.callbacks.History at 0x7fa4d00e5550>"
            ]
          },
          "metadata": {},
          "execution_count": 73
        }
      ]
    },
    {
      "cell_type": "code",
      "source": [
        "y_pred_cr = vgg19_model.predict(X_test_cr)\n",
        "y_pred_uncr = vgg19_model.predict(X_test_uncr)\n",
        "\n",
        "_, acc = vgg19_model.evaluate(X_test_cr, y_test_cr, verbose=0)\n",
        "print('> %.3f' % (acc * 100.0))\n",
        "\n",
        "_, acc = vgg19_model.evaluate(X_test_uncr, y_test_uncr, verbose=0)\n",
        "print('> %.3f' % (acc * 100.0))"
      ],
      "metadata": {
        "colab": {
          "base_uri": "https://localhost:8080/"
        },
        "id": "_y1f_IsPCZ6i",
        "outputId": "3a5d7b3c-70a1-46b0-a930-920844ce8f8b"
      },
      "execution_count": null,
      "outputs": [
        {
          "output_type": "stream",
          "name": "stdout",
          "text": [
            "> 40.491\n",
            "> 41.104\n"
          ]
        }
      ]
    },
    {
      "cell_type": "markdown",
      "source": [
        "# Augmentation 4"
      ],
      "metadata": {
        "id": "8DeidAtbCdg_"
      }
    },
    {
      "cell_type": "code",
      "source": [
        "X_train_dg = ImageDataGenerator(\n",
        "    shear_range=0.2,\n",
        "    zoom_range=0.2,\n",
        "    horizontal_flip=True\n",
        ")\n",
        "X_train_dg.fit(X_train)"
      ],
      "metadata": {
        "id": "2hTwIwg8Cc8U"
      },
      "execution_count": null,
      "outputs": []
    },
    {
      "cell_type": "code",
      "source": [
        "vgg19_model = getVGG19Model()"
      ],
      "metadata": {
        "id": "09aFXYI6ClKS"
      },
      "execution_count": null,
      "outputs": []
    },
    {
      "cell_type": "code",
      "source": [
        "es = EarlyStopping(monitor='val_accuracy', mode='max', patience=5,  restore_best_weights=True)\n",
        "\n",
        "vgg19_model.fit(X_train_dg.flow(X_train, y_train), batch_size=50, epochs=40, validation_data=(X_test_uncr, y_test_uncr), callbacks=[es])"
      ],
      "metadata": {
        "colab": {
          "base_uri": "https://localhost:8080/"
        },
        "id": "a3NWAglTCmej",
        "outputId": "abb27cbf-7097-417a-e6da-6d51b3b79990"
      },
      "execution_count": null,
      "outputs": [
        {
          "output_type": "stream",
          "name": "stdout",
          "text": [
            "Epoch 1/40\n",
            "28/28 [==============================] - 19s 645ms/step - loss: 3.6818 - accuracy: 0.6098 - val_loss: 2.6046 - val_accuracy: 0.5521\n",
            "Epoch 2/40\n",
            "28/28 [==============================] - 17s 614ms/step - loss: 0.2826 - accuracy: 0.9283 - val_loss: 1.2066 - val_accuracy: 0.7270\n",
            "Epoch 3/40\n",
            "28/28 [==============================] - 17s 607ms/step - loss: 0.1396 - accuracy: 0.9511 - val_loss: 2.1096 - val_accuracy: 0.6779\n",
            "Epoch 4/40\n",
            "28/28 [==============================] - 17s 610ms/step - loss: 0.1318 - accuracy: 0.9522 - val_loss: 1.6995 - val_accuracy: 0.7239\n",
            "Epoch 5/40\n",
            "28/28 [==============================] - 17s 622ms/step - loss: 0.0930 - accuracy: 0.9704 - val_loss: 1.2397 - val_accuracy: 0.7577\n",
            "Epoch 6/40\n",
            "28/28 [==============================] - 17s 618ms/step - loss: 0.0801 - accuracy: 0.9738 - val_loss: 1.2800 - val_accuracy: 0.7393\n",
            "Epoch 7/40\n",
            "28/28 [==============================] - 17s 617ms/step - loss: 0.0394 - accuracy: 0.9852 - val_loss: 1.3126 - val_accuracy: 0.7301\n",
            "Epoch 8/40\n",
            "28/28 [==============================] - 17s 612ms/step - loss: 0.1112 - accuracy: 0.9613 - val_loss: 1.1712 - val_accuracy: 0.7454\n",
            "Epoch 9/40\n",
            "28/28 [==============================] - 17s 608ms/step - loss: 0.0963 - accuracy: 0.9647 - val_loss: 1.6220 - val_accuracy: 0.7147\n",
            "Epoch 10/40\n",
            "28/28 [==============================] - 17s 616ms/step - loss: 0.1268 - accuracy: 0.9579 - val_loss: 1.6364 - val_accuracy: 0.7331\n"
          ]
        },
        {
          "output_type": "execute_result",
          "data": {
            "text/plain": [
              "<keras.callbacks.History at 0x7fa4676e5ad0>"
            ]
          },
          "metadata": {},
          "execution_count": 77
        }
      ]
    },
    {
      "cell_type": "code",
      "source": [
        "y_pred_cr = vgg19_model.predict(X_test_cr)\n",
        "y_pred_uncr = vgg19_model.predict(X_test_uncr)\n",
        "\n",
        "_, acc = vgg19_model.evaluate(X_test_cr, y_test_cr, verbose=0)\n",
        "print('> %.3f' % (acc * 100.0))\n",
        "\n",
        "_, acc = vgg19_model.evaluate(X_test_uncr, y_test_uncr, verbose=0)\n",
        "print('> %.3f' % (acc * 100.0))"
      ],
      "metadata": {
        "colab": {
          "base_uri": "https://localhost:8080/"
        },
        "id": "a0xEO8y8CncN",
        "outputId": "2565c06b-e668-4b3e-bf8f-3e06e090c181"
      },
      "execution_count": null,
      "outputs": [
        {
          "output_type": "stream",
          "name": "stdout",
          "text": [
            "> 90.491\n",
            "> 75.767\n"
          ]
        }
      ]
    },
    {
      "cell_type": "markdown",
      "source": [
        "# Augmentation 4 with discriminative learning"
      ],
      "metadata": {
        "id": "JSCujgBgC2Bs"
      }
    },
    {
      "cell_type": "code",
      "source": [
        "He_initializer = tf.keras.initializers.HeNormal()\n",
        "def getVGG19Model(lastFourTrainable=False):\n",
        "  #vgg_model = VGG16(weights='imagenet', input_shape=X_train[0].shape, include_top=True)\n",
        "  vgg_model = VGG19(weights='imagenet', input_shape=X_train[0].shape, include_top=True)\n",
        "\n",
        "  # Make all layers untrainable\n",
        "  for layer in vgg_model.layers[:]:\n",
        "      layer.trainable = False\n",
        "\n",
        "  # Add fully connected layer which have 1024 neuron to VGG-19 model\n",
        "  output = vgg_model.get_layer('fc2').output\n",
        "  output = Flatten(name='new_flatten')(output)\n",
        "  output = Dense(units=1024, activation='relu', name='new_fc',kernel_initializer= He_initializer)(output)\n",
        "  output = Dense(units=11, activation='softmax',kernel_initializer= He_initializer)(output)\n",
        "  vgg_model = Model(vgg_model.input, output)\n",
        "\n",
        "  # Make last 4 layers trainable if lastFourTrainable == True\n",
        "  if lastFourTrainable == True:\n",
        "    vgg_model.get_layer('block5_conv4').trainable = True\n",
        "    vgg_model.get_layer('fc1').trainable = True\n",
        "    vgg_model.get_layer('fc2').trainable = True\n",
        "    vgg_model.get_layer('new_fc').trainable = True\n",
        "  \n",
        "  optimizers = [\n",
        "     tf.keras.optimizers.Adam(learning_rate=1e-6),\n",
        "     tf.keras.optimizers.Adam(learning_rate=1e-3)]\n",
        "\n",
        "  optimizers_and_layers = [(optimizers[1], vgg_model.layers[-1]),(optimizers[1], vgg_model.layers[-2]),\n",
        "                            (optimizers[0], vgg_model.layers[-4]), (optimizers[0], vgg_model.layers[-5]),\n",
        "                            (optimizers[0], vgg_model.layers[-8])]\n",
        "  optimizer = tfa.optimizers.MultiOptimizer(optimizers_and_layers)\n",
        "\n",
        "  \n",
        "\n",
        "\n",
        "  # Compile VGG-19 model\n",
        "  vgg_model.compile(optimizer=optimizer, loss='categorical_crossentropy', metrics=['accuracy'])\n",
        "  # vgg_model.summary()\n",
        "\n",
        "  return vgg_model"
      ],
      "metadata": {
        "id": "Y0YgJOh4CoRp"
      },
      "execution_count": null,
      "outputs": []
    },
    {
      "cell_type": "code",
      "source": [
        "X_train_dg = ImageDataGenerator(\n",
        "    shear_range=0.2,\n",
        "    zoom_range=0.2,\n",
        "    horizontal_flip=True\n",
        ")\n",
        "X_train_dg.fit(X_train)"
      ],
      "metadata": {
        "id": "pTbwWFfRDM3Y"
      },
      "execution_count": null,
      "outputs": []
    },
    {
      "cell_type": "code",
      "source": [
        "vgg19_model = getVGG19Model(lastFourTrainable=True)"
      ],
      "metadata": {
        "id": "Ev5QX8NvDRDv"
      },
      "execution_count": null,
      "outputs": []
    },
    {
      "cell_type": "code",
      "source": [
        "es = EarlyStopping(monitor='val_accuracy', mode='max', patience=10,  restore_best_weights=True)\n",
        "\n",
        "vgg19_model.fit(X_train_dg.flow(X_train, y_train), batch_size=50, epochs=40, validation_data=(X_test_uncr, y_test_uncr), callbacks=[es])"
      ],
      "metadata": {
        "colab": {
          "base_uri": "https://localhost:8080/"
        },
        "id": "y2V2B-9nDRSd",
        "outputId": "02c91b7c-4a51-4f3d-b1fa-9acaedfcbf9d"
      },
      "execution_count": null,
      "outputs": [
        {
          "output_type": "stream",
          "name": "stdout",
          "text": [
            "Epoch 1/40\n",
            "28/28 [==============================] - 21s 670ms/step - loss: 4.4334 - accuracy: 0.5563 - val_loss: 2.6427 - val_accuracy: 0.4509\n",
            "Epoch 2/40\n",
            "28/28 [==============================] - 18s 641ms/step - loss: 0.2322 - accuracy: 0.9249 - val_loss: 1.1094 - val_accuracy: 0.7147\n",
            "Epoch 3/40\n",
            "28/28 [==============================] - 18s 639ms/step - loss: 0.1103 - accuracy: 0.9625 - val_loss: 0.9921 - val_accuracy: 0.7301\n",
            "Epoch 4/40\n",
            "28/28 [==============================] - 18s 644ms/step - loss: 0.0419 - accuracy: 0.9909 - val_loss: 1.3828 - val_accuracy: 0.7301\n",
            "Epoch 5/40\n",
            "28/28 [==============================] - 18s 637ms/step - loss: 0.0345 - accuracy: 0.9909 - val_loss: 1.4801 - val_accuracy: 0.7209\n",
            "Epoch 6/40\n",
            "28/28 [==============================] - 18s 640ms/step - loss: 0.0436 - accuracy: 0.9875 - val_loss: 0.9017 - val_accuracy: 0.7607\n",
            "Epoch 7/40\n",
            "28/28 [==============================] - 18s 631ms/step - loss: 0.0243 - accuracy: 0.9920 - val_loss: 1.3756 - val_accuracy: 0.7331\n",
            "Epoch 8/40\n",
            "28/28 [==============================] - 18s 637ms/step - loss: 0.0262 - accuracy: 0.9920 - val_loss: 0.8418 - val_accuracy: 0.7853\n",
            "Epoch 9/40\n",
            "28/28 [==============================] - 18s 623ms/step - loss: 0.0309 - accuracy: 0.9875 - val_loss: 1.0782 - val_accuracy: 0.7699\n",
            "Epoch 10/40\n",
            "28/28 [==============================] - 18s 624ms/step - loss: 0.0243 - accuracy: 0.9909 - val_loss: 1.7812 - val_accuracy: 0.6994\n",
            "Epoch 11/40\n",
            "28/28 [==============================] - 18s 642ms/step - loss: 0.0227 - accuracy: 0.9932 - val_loss: 1.0931 - val_accuracy: 0.7945\n",
            "Epoch 12/40\n",
            "28/28 [==============================] - 18s 631ms/step - loss: 0.0142 - accuracy: 0.9943 - val_loss: 1.7616 - val_accuracy: 0.7086\n",
            "Epoch 13/40\n",
            "28/28 [==============================] - 18s 623ms/step - loss: 0.0314 - accuracy: 0.9886 - val_loss: 1.4106 - val_accuracy: 0.7331\n",
            "Epoch 14/40\n",
            "28/28 [==============================] - 17s 617ms/step - loss: 0.0275 - accuracy: 0.9909 - val_loss: 1.9284 - val_accuracy: 0.7055\n",
            "Epoch 15/40\n",
            "28/28 [==============================] - 18s 627ms/step - loss: 0.0198 - accuracy: 0.9920 - val_loss: 1.0374 - val_accuracy: 0.8006\n",
            "Epoch 16/40\n",
            "28/28 [==============================] - 17s 618ms/step - loss: 0.0060 - accuracy: 0.9989 - val_loss: 1.2661 - val_accuracy: 0.7945\n",
            "Epoch 17/40\n",
            "28/28 [==============================] - 17s 620ms/step - loss: 0.0266 - accuracy: 0.9920 - val_loss: 1.3656 - val_accuracy: 0.7669\n",
            "Epoch 18/40\n",
            "28/28 [==============================] - 18s 624ms/step - loss: 0.0158 - accuracy: 0.9954 - val_loss: 2.4451 - val_accuracy: 0.6626\n",
            "Epoch 19/40\n",
            "28/28 [==============================] - 18s 625ms/step - loss: 0.0076 - accuracy: 0.9989 - val_loss: 1.2530 - val_accuracy: 0.7883\n",
            "Epoch 20/40\n",
            "28/28 [==============================] - 17s 617ms/step - loss: 0.0128 - accuracy: 0.9943 - val_loss: 2.2066 - val_accuracy: 0.6748\n",
            "Epoch 21/40\n",
            "28/28 [==============================] - 18s 625ms/step - loss: 0.0224 - accuracy: 0.9932 - val_loss: 2.0603 - val_accuracy: 0.7086\n",
            "Epoch 22/40\n",
            "28/28 [==============================] - 17s 633ms/step - loss: 0.0118 - accuracy: 0.9977 - val_loss: 1.1041 - val_accuracy: 0.7730\n",
            "Epoch 23/40\n",
            "28/28 [==============================] - 17s 614ms/step - loss: 0.0080 - accuracy: 0.9977 - val_loss: 1.4837 - val_accuracy: 0.7454\n",
            "Epoch 24/40\n",
            "28/28 [==============================] - 17s 616ms/step - loss: 0.0137 - accuracy: 0.9966 - val_loss: 2.3179 - val_accuracy: 0.6564\n",
            "Epoch 25/40\n",
            "28/28 [==============================] - 18s 623ms/step - loss: 0.0149 - accuracy: 0.9932 - val_loss: 2.4956 - val_accuracy: 0.6564\n"
          ]
        },
        {
          "output_type": "execute_result",
          "data": {
            "text/plain": [
              "<keras.callbacks.History at 0x7f33ec55e490>"
            ]
          },
          "metadata": {},
          "execution_count": 16
        }
      ]
    },
    {
      "cell_type": "code",
      "source": [
        "y_pred_cr = vgg19_model.predict(X_test_cr)\n",
        "y_pred_uncr = vgg19_model.predict(X_test_uncr)\n",
        "\n",
        "_, acc = vgg19_model.evaluate(X_test_cr, y_test_cr, verbose=0)\n",
        "print('> %.3f' % (acc * 100.0))\n",
        "\n",
        "_, acc = vgg19_model.evaluate(X_test_uncr, y_test_uncr, verbose=0)\n",
        "print('> %.3f' % (acc * 100.0))"
      ],
      "metadata": {
        "colab": {
          "base_uri": "https://localhost:8080/"
        },
        "id": "l94yYh7DDS22",
        "outputId": "db0c1e90-7f34-4030-c480-bc1c2fa5e55f"
      },
      "execution_count": null,
      "outputs": [
        {
          "output_type": "stream",
          "name": "stdout",
          "text": [
            "> 92.638\n",
            "> 80.061\n"
          ]
        }
      ]
    },
    {
      "cell_type": "code",
      "source": [
        ""
      ],
      "metadata": {
        "id": "sd3oYvArDUid"
      },
      "execution_count": null,
      "outputs": []
    }
  ]
}