{
  "cells": [
    {
      "cell_type": "code",
      "execution_count": null,
      "metadata": {
        "colab": {
          "base_uri": "https://localhost:8080/"
        },
        "id": "tsHija3m6hPH",
        "outputId": "a0e2d556-38c3-44b4-c421-67a73b327711"
      },
      "outputs": [
        {
          "output_type": "stream",
          "name": "stdout",
          "text": [
            "Mounted at /content/drive\n"
          ]
        }
      ],
      "source": [
        "from google.colab import drive\n",
        "drive.mount('/content/drive')"
      ]
    },
    {
      "cell_type": "code",
      "execution_count": null,
      "metadata": {
        "id": "EmMwPBOf6z9C"
      },
      "outputs": [],
      "source": [
        "ext = 'drive/MyDrive/CV_Images/'#concentric.mat'"
      ]
    },
    {
      "cell_type": "code",
      "execution_count": null,
      "metadata": {
        "colab": {
          "base_uri": "https://localhost:8080/"
        },
        "id": "Hszfu-SX61qg",
        "outputId": "451a710b-69f1-4733-fe1e-6658978c9c32"
      },
      "outputs": [
        {
          "output_type": "stream",
          "name": "stdout",
          "text": [
            "Collecting imagehash\n",
            "  Downloading ImageHash-4.2.1.tar.gz (812 kB)\n",
            "\u001b[?25l\r\u001b[K     |▍                               | 10 kB 27.7 MB/s eta 0:00:01\r\u001b[K     |▉                               | 20 kB 8.8 MB/s eta 0:00:01\r\u001b[K     |█▏                              | 30 kB 7.8 MB/s eta 0:00:01\r\u001b[K     |█▋                              | 40 kB 3.6 MB/s eta 0:00:01\r\u001b[K     |██                              | 51 kB 3.6 MB/s eta 0:00:01\r\u001b[K     |██▍                             | 61 kB 4.3 MB/s eta 0:00:01\r\u001b[K     |██▉                             | 71 kB 4.5 MB/s eta 0:00:01\r\u001b[K     |███▎                            | 81 kB 4.8 MB/s eta 0:00:01\r\u001b[K     |███▋                            | 92 kB 5.4 MB/s eta 0:00:01\r\u001b[K     |████                            | 102 kB 4.3 MB/s eta 0:00:01\r\u001b[K     |████▍                           | 112 kB 4.3 MB/s eta 0:00:01\r\u001b[K     |████▉                           | 122 kB 4.3 MB/s eta 0:00:01\r\u001b[K     |█████▎                          | 133 kB 4.3 MB/s eta 0:00:01\r\u001b[K     |█████▋                          | 143 kB 4.3 MB/s eta 0:00:01\r\u001b[K     |██████                          | 153 kB 4.3 MB/s eta 0:00:01\r\u001b[K     |██████▌                         | 163 kB 4.3 MB/s eta 0:00:01\r\u001b[K     |██████▉                         | 174 kB 4.3 MB/s eta 0:00:01\r\u001b[K     |███████▎                        | 184 kB 4.3 MB/s eta 0:00:01\r\u001b[K     |███████▋                        | 194 kB 4.3 MB/s eta 0:00:01\r\u001b[K     |████████                        | 204 kB 4.3 MB/s eta 0:00:01\r\u001b[K     |████████▌                       | 215 kB 4.3 MB/s eta 0:00:01\r\u001b[K     |████████▉                       | 225 kB 4.3 MB/s eta 0:00:01\r\u001b[K     |█████████▎                      | 235 kB 4.3 MB/s eta 0:00:01\r\u001b[K     |█████████▊                      | 245 kB 4.3 MB/s eta 0:00:01\r\u001b[K     |██████████                      | 256 kB 4.3 MB/s eta 0:00:01\r\u001b[K     |██████████▌                     | 266 kB 4.3 MB/s eta 0:00:01\r\u001b[K     |██████████▉                     | 276 kB 4.3 MB/s eta 0:00:01\r\u001b[K     |███████████▎                    | 286 kB 4.3 MB/s eta 0:00:01\r\u001b[K     |███████████▊                    | 296 kB 4.3 MB/s eta 0:00:01\r\u001b[K     |████████████                    | 307 kB 4.3 MB/s eta 0:00:01\r\u001b[K     |████████████▌                   | 317 kB 4.3 MB/s eta 0:00:01\r\u001b[K     |█████████████                   | 327 kB 4.3 MB/s eta 0:00:01\r\u001b[K     |█████████████▎                  | 337 kB 4.3 MB/s eta 0:00:01\r\u001b[K     |█████████████▊                  | 348 kB 4.3 MB/s eta 0:00:01\r\u001b[K     |██████████████▏                 | 358 kB 4.3 MB/s eta 0:00:01\r\u001b[K     |██████████████▌                 | 368 kB 4.3 MB/s eta 0:00:01\r\u001b[K     |███████████████                 | 378 kB 4.3 MB/s eta 0:00:01\r\u001b[K     |███████████████▎                | 389 kB 4.3 MB/s eta 0:00:01\r\u001b[K     |███████████████▊                | 399 kB 4.3 MB/s eta 0:00:01\r\u001b[K     |████████████████▏               | 409 kB 4.3 MB/s eta 0:00:01\r\u001b[K     |████████████████▌               | 419 kB 4.3 MB/s eta 0:00:01\r\u001b[K     |█████████████████               | 430 kB 4.3 MB/s eta 0:00:01\r\u001b[K     |█████████████████▍              | 440 kB 4.3 MB/s eta 0:00:01\r\u001b[K     |█████████████████▊              | 450 kB 4.3 MB/s eta 0:00:01\r\u001b[K     |██████████████████▏             | 460 kB 4.3 MB/s eta 0:00:01\r\u001b[K     |██████████████████▌             | 471 kB 4.3 MB/s eta 0:00:01\r\u001b[K     |███████████████████             | 481 kB 4.3 MB/s eta 0:00:01\r\u001b[K     |███████████████████▍            | 491 kB 4.3 MB/s eta 0:00:01\r\u001b[K     |███████████████████▊            | 501 kB 4.3 MB/s eta 0:00:01\r\u001b[K     |████████████████████▏           | 512 kB 4.3 MB/s eta 0:00:01\r\u001b[K     |████████████████████▋           | 522 kB 4.3 MB/s eta 0:00:01\r\u001b[K     |█████████████████████           | 532 kB 4.3 MB/s eta 0:00:01\r\u001b[K     |█████████████████████▍          | 542 kB 4.3 MB/s eta 0:00:01\r\u001b[K     |█████████████████████▊          | 552 kB 4.3 MB/s eta 0:00:01\r\u001b[K     |██████████████████████▏         | 563 kB 4.3 MB/s eta 0:00:01\r\u001b[K     |██████████████████████▋         | 573 kB 4.3 MB/s eta 0:00:01\r\u001b[K     |███████████████████████         | 583 kB 4.3 MB/s eta 0:00:01\r\u001b[K     |███████████████████████▍        | 593 kB 4.3 MB/s eta 0:00:01\r\u001b[K     |███████████████████████▉        | 604 kB 4.3 MB/s eta 0:00:01\r\u001b[K     |████████████████████████▏       | 614 kB 4.3 MB/s eta 0:00:01\r\u001b[K     |████████████████████████▋       | 624 kB 4.3 MB/s eta 0:00:01\r\u001b[K     |█████████████████████████       | 634 kB 4.3 MB/s eta 0:00:01\r\u001b[K     |█████████████████████████▍      | 645 kB 4.3 MB/s eta 0:00:01\r\u001b[K     |█████████████████████████▉      | 655 kB 4.3 MB/s eta 0:00:01\r\u001b[K     |██████████████████████████▏     | 665 kB 4.3 MB/s eta 0:00:01\r\u001b[K     |██████████████████████████▋     | 675 kB 4.3 MB/s eta 0:00:01\r\u001b[K     |███████████████████████████     | 686 kB 4.3 MB/s eta 0:00:01\r\u001b[K     |███████████████████████████▍    | 696 kB 4.3 MB/s eta 0:00:01\r\u001b[K     |███████████████████████████▉    | 706 kB 4.3 MB/s eta 0:00:01\r\u001b[K     |████████████████████████████▎   | 716 kB 4.3 MB/s eta 0:00:01\r\u001b[K     |████████████████████████████▋   | 727 kB 4.3 MB/s eta 0:00:01\r\u001b[K     |█████████████████████████████   | 737 kB 4.3 MB/s eta 0:00:01\r\u001b[K     |█████████████████████████████▍  | 747 kB 4.3 MB/s eta 0:00:01\r\u001b[K     |█████████████████████████████▉  | 757 kB 4.3 MB/s eta 0:00:01\r\u001b[K     |██████████████████████████████▎ | 768 kB 4.3 MB/s eta 0:00:01\r\u001b[K     |██████████████████████████████▋ | 778 kB 4.3 MB/s eta 0:00:01\r\u001b[K     |███████████████████████████████ | 788 kB 4.3 MB/s eta 0:00:01\r\u001b[K     |███████████████████████████████▌| 798 kB 4.3 MB/s eta 0:00:01\r\u001b[K     |███████████████████████████████▉| 808 kB 4.3 MB/s eta 0:00:01\r\u001b[K     |████████████████████████████████| 812 kB 4.3 MB/s \n",
            "\u001b[?25hRequirement already satisfied: six in /usr/local/lib/python3.7/dist-packages (from imagehash) (1.15.0)\n",
            "Requirement already satisfied: numpy in /usr/local/lib/python3.7/dist-packages (from imagehash) (1.21.6)\n",
            "Requirement already satisfied: scipy in /usr/local/lib/python3.7/dist-packages (from imagehash) (1.4.1)\n",
            "Requirement already satisfied: pillow in /usr/local/lib/python3.7/dist-packages (from imagehash) (7.1.2)\n",
            "Requirement already satisfied: PyWavelets in /usr/local/lib/python3.7/dist-packages (from imagehash) (1.3.0)\n",
            "Building wheels for collected packages: imagehash\n",
            "  Building wheel for imagehash (setup.py) ... \u001b[?25l\u001b[?25hdone\n",
            "  Created wheel for imagehash: filename=ImageHash-4.2.1-py2.py3-none-any.whl size=295206 sha256=693cdd93ab0ba6c0b1a285e30ff122ce2b1f388abe164d6d7414b007682d637c\n",
            "  Stored in directory: /root/.cache/pip/wheels/4c/d5/59/5e3e297533ddb09407769762985d134135064c6831e29a914e\n",
            "Successfully built imagehash\n",
            "Installing collected packages: imagehash\n",
            "Successfully installed imagehash-4.2.1\n"
          ]
        }
      ],
      "source": [
        "! pip install imagehash"
      ]
    },
    {
      "cell_type": "markdown",
      "source": [
        "# Load Libraries"
      ],
      "metadata": {
        "id": "lKYVcscOOpSX"
      }
    },
    {
      "cell_type": "code",
      "execution_count": null,
      "metadata": {
        "id": "xpulDs_F63uY"
      },
      "outputs": [],
      "source": [
        "import cv2\n",
        "import numpy as np\n",
        "import json\n",
        "import os\n",
        "# import random\n",
        "# import tensorflow as tf\n",
        "# from keras.utils import np_utils\n",
        "# from keras.models import Model, Sequential, load_model\n",
        "# from keras.layers import Dense, Conv2D, MaxPooling2D, Flatten, Reshape, Dropout\n",
        "# from keras.preprocessing.image import ImageDataGenerator\n",
        "# from keras.applications.vgg16 import VGG16\n",
        "# #from keras.applications.resnet50 import ResNet50\n",
        "# from keras.applications.resnet import ResNet50\n",
        "# from sklearn.metrics import confusion_matrix, classification_report\n",
        "# import itertools\n",
        "# import pandas as pd\n",
        "# import matplotlib.pyplot as plt\n",
        "# from keras.callbacks import EarlyStopping\n",
        "# import seaborn as sns\n",
        "import shutil\n",
        "from PIL import Image\n",
        "import imagehash\n",
        "from sklearn.cluster import AgglomerativeClustering"
      ]
    },
    {
      "cell_type": "markdown",
      "metadata": {
        "id": "GFY_LhJZ8TMF"
      },
      "source": [
        "# Crop the folder"
      ]
    },
    {
      "cell_type": "code",
      "execution_count": null,
      "metadata": {
        "id": "WURiX5J28Fsp"
      },
      "outputs": [],
      "source": [
        "def cropped(ele_name):\n",
        "    input_path = ele_name + 'uncropped/'\n",
        "    cropped_path = ele_name + 'cropped/'\n",
        "    #cropped_path = 'drive/MyDrive/CV_Images/1015/cropped_train/'\n",
        "    for image in os.listdir(cropped_path):\n",
        "      try:\n",
        "        os.remove(f'{cropped_path}{image}')\n",
        "      except:\n",
        "        \"Meh\"\n",
        "    for each in os.listdir(input_path):\n",
        "        ext = os.path.splitext(each)[-1]\n",
        "        #print(each)\n",
        "        if ext == '.json':\n",
        "            filename = os.path.splitext(each)[0]\n",
        "            #print(filename)\n",
        "            f = open(input_path+filename+'.json')#'1019/train/IMG_6177.json')\n",
        "            data = json.load(f)\n",
        "            [[r1,c1],[r2,c2]] = data['shapes'][0]['points']\n",
        "            img = cv2.imread(input_path+filename+'.JPG')\n",
        "            if img is None:\n",
        "              img = cv2.imread(input_path+filename+'.jpg')\n",
        "            cropped = img[np.int64(np.floor(c1)):np.int64(np.floor(c2)),np.int64(np.floor(r1)):np.int64(np.floor(r2))]\n",
        "            cv2.imwrite(cropped_path + filename +'.jpg', cropped)"
      ]
    },
    {
      "cell_type": "code",
      "execution_count": null,
      "metadata": {
        "colab": {
          "base_uri": "https://localhost:8080/"
        },
        "id": "pKdlUqIv8Wq8",
        "outputId": "8eb57ce6-0871-49ba-a9c8-a7d59d90a7d0"
      },
      "outputs": [
        {
          "name": "stdout",
          "output_type": "stream",
          "text": [
            "IMG_8980\n",
            "IMG_8921\n",
            "IMG_8922\n",
            "IMG_8957\n",
            "IMG_8979\n",
            "IMG_8975\n",
            "IMG_8989\n",
            "IMG_8972\n",
            "IMG_8967\n",
            "IMG_8959\n",
            "IMG_8981\n",
            "IMG_8973\n",
            "IMG_8924\n",
            "IMG_8974\n",
            "IMG_8994\n",
            "IMG_8978\n",
            "IMG_8925\n",
            "IMG_8923\n",
            "IMG_8984\n",
            "IMG_8960\n",
            "IMG_8954\n",
            "IMG_8991\n",
            "IMG_8977\n",
            "IMG_8953\n",
            "IMG_8985\n",
            "IMG_8958\n",
            "IMG_8971\n",
            "IMG_8976\n",
            "IMG_8986\n",
            "IMG_8968\n",
            "IMG_8927\n",
            "IMG_8990\n",
            "IMG_8993\n",
            "IMG_8970\n",
            "IMG_8992\n",
            "IMG_8916\n",
            "IMG_8996\n",
            "IMG_8995\n",
            "IMG_8988\n",
            "IMG_8987\n",
            "IMG_8982\n",
            "IMG_8926\n",
            "IMG_8915\n",
            "IMG_8966\n",
            "IMG_8983\n",
            "IMG_8969\n",
            "IMG_9098\n",
            "IMG_9040\n",
            "IMG_9041\n",
            "IMG_9033\n",
            "IMG_9052\n",
            "IMG_9046\n",
            "IMG_9095\n",
            "IMG_8998\n",
            "IMG_8999\n",
            "IMG_9014\n",
            "IMG_9101\n",
            "IMG_9013\n",
            "IMG_9001\n",
            "IMG_9211\n",
            "IMG_9051\n",
            "IMG_9049\n",
            "IMG_9091\n",
            "IMG_9009\n",
            "IMG_9090\n",
            "IMG_9198\n",
            "IMG_9197\n",
            "IMG_9195\n",
            "IMG_9016\n",
            "IMG_9093\n",
            "IMG_9099\n",
            "IMG_9096\n",
            "IMG_9012\n",
            "IMG_9196\n",
            "IMG_9194\n",
            "IMG_9048\n",
            "IMG_9031\n",
            "IMG_9193\n",
            "IMG_9029\n",
            "IMG_9002\n",
            "IMG_9011\n",
            "IMG_9034\n",
            "IMG_9026\n",
            "IMG_9036\n",
            "IMG_9100\n",
            "IMG_9289\n",
            "IMG_8997\n",
            "IMG_9094\n",
            "IMG_9010\n",
            "IMG_9199\n",
            "IMG_9022\n",
            "IMG_9050\n",
            "IMG_9032\n",
            "IMG_9035\n",
            "IMG_9028\n",
            "IMG_9038\n",
            "IMG_9047\n",
            "IMG_9092\n",
            "IMG_9097\n",
            "IMG_9015\n",
            "IMG_9039\n",
            "IMG_9030\n",
            "IMG_9021\n",
            "IMG_9037\n"
          ]
        }
      ],
      "source": [
        "for elephant in os.listdir(ext):\n",
        "  ele_name = ext + elephant +'/'\n",
        "  cropped(ele_name)"
      ]
    },
    {
      "cell_type": "markdown",
      "metadata": {
        "id": "X6VRLBPC8GQB"
      },
      "source": [
        "# Imagehash + AgglomerativeClustering + test_train_validation"
      ]
    },
    {
      "cell_type": "code",
      "execution_count": null,
      "metadata": {
        "colab": {
          "background_save": true,
          "base_uri": "https://localhost:8080/"
        },
        "id": "k-yWjggp6-Yd",
        "outputId": "a4c27233-efaa-4934-f667-1c56aea7ddfb"
      },
      "outputs": [
        {
          "name": "stdout",
          "output_type": "stream",
          "text": [
            "1037\n",
            "Hashing Matrix is done\n",
            "Agglomerative Clustering is done\n",
            "Segregation is done\n",
            "Cluster0 done\n",
            "Cluster1 done\n",
            "Cluster2 done\n",
            "1031\n",
            "Hashing Matrix is done\n",
            "Agglomerative Clustering is done\n",
            "Segregation is done\n",
            "Cluster0 done\n",
            "Cluster1 done\n",
            "Cluster2 done\n",
            "1020\n",
            "Hashing Matrix is done\n",
            "Agglomerative Clustering is done\n",
            "Segregation is done\n",
            "Cluster0 done\n",
            "Cluster1 done\n",
            "Cluster2 done\n",
            "1012\n",
            "Hashing Matrix is done\n",
            "Agglomerative Clustering is done\n",
            "Segregation is done\n",
            "Cluster0 done\n",
            "Cluster1 done\n",
            "Cluster2 done\n",
            "1002\n",
            "Hashing Matrix is done\n",
            "Agglomerative Clustering is done\n",
            "Segregation is done\n",
            "Cluster0 done\n",
            "Cluster1 done\n",
            "Cluster2 done\n"
          ]
        }
      ],
      "source": [
        "for elephant in os.listdir(ext): #['1037','1031','1020','1012','1002']:#['1001']:#['1007','1000']:#['1039']:#'1039''1017',#['1021','1019','1015']:\n",
        "  print(elephant)\n",
        "  path = ext+elephant+'/cropped/'#'sim_test/'\n",
        "  image_list = os.listdir(path)\n",
        "  hash_matrix = np.zeros((len(image_list), len(image_list)))\n",
        "  #each_count=0\n",
        "\n",
        "  #Hashing\n",
        "  for each in range(len(image_list)):\n",
        "    for every in range(len(image_list)):\n",
        "      hash1 = imagehash.average_hash(Image.open(path+image_list[each]))\n",
        "      hash2 = imagehash.average_hash(Image.open(path+image_list[every]))\n",
        "      diff = hash1-hash2\n",
        "      hash_matrix[each,every] = diff\n",
        "    #each_count+=1\n",
        "    #print(each_count)\n",
        "  print(\"Hashing Matrix is done\")\n",
        "\n",
        "  # Agglomerative Clustering\n",
        "  cluster = AgglomerativeClustering(n_clusters=3, affinity='precomputed', linkage='average')\n",
        "  pred = cluster.fit_predict(hash_matrix)\n",
        "  print(\"Agglomerative Clustering is done\")\n",
        "\n",
        "  # Segregation\n",
        "  clust0_indices, clust1_indices, clust2_indices  = [i for i in range(len(pred)) if pred[i] == 0], [i for i in range(len(pred)) if pred[i] == 1], [i for i in range(len(pred)) if pred[i] == 2]\n",
        "  clust0,clust1,clust2 = [image_list[i] for i in clust0_indices], [image_list[i] for i in clust1_indices], [image_list[i] for i in clust2_indices]  \n",
        "  print(\"Segregation is done\")\n",
        "\n",
        "  # Writing to google drive\n",
        "  for each in clust0:\n",
        "    shutil.copy(path+each,ext+elephant+'/c0')\n",
        "    #shutil.copy(ext+'sim_test/'+each, ext+'test_sim2/c0')\n",
        "  print(\"Cluster0 done\")\n",
        "\n",
        "  for each in clust1:\n",
        "    shutil.copy(path+each,ext+elephant+'/c1')\n",
        "    #shutil.copy(ext+'sim_test/'+each, ext+'test_sim2/c1')\n",
        "  print(\"Cluster1 done\")\n",
        "\n",
        "  for each in clust2:\n",
        "    shutil.copy(path+each,ext+elephant+'/c2')\n",
        "    #shutil.copy(ext+'sim_test/'+each, ext+'test_sim2/c2')\n",
        "  print(\"Cluster2 done\")"
      ]
    },
    {
      "cell_type": "markdown",
      "metadata": {
        "id": "0rqxVAvMWY3y"
      },
      "source": [
        "# Combining c0,c1,c2 into cropped_test/uncropped_test and train datasets"
      ]
    },
    {
      "cell_type": "code",
      "execution_count": null,
      "metadata": {
        "id": "QLwlSsbyPVY1"
      },
      "outputs": [],
      "source": [
        "# 1040 - train(c0,c1), test(c2)\n",
        "# 1015 - train(c0), test(c1,c2)\n",
        "# 1004 - train(c0), test(c1,c2)\n",
        "# 1019 - train(c0), test(c1,c2)\n",
        "# 1021 - train(c0), test(c1,c2) clusters are very dependent on background\n",
        "# 1005 - train(c0), test(c1,c2)\n",
        "# 1007 - train(c1,c2), test(c0)\n",
        "# 1001 - train(c0,c1), test(c2)\n",
        "#['1037','1031','1020','1012','1002']\n",
        "# 1031 - train(c0), test(c1,c2)\n",
        "# 1012 - train(c0), test(c1,c2)\n",
        "# 1002 - train(c0,c1), test(c2)\n",
        "# 1020 - train(c0), test(c1,c2) -> bad dataset\n",
        "# 1037 - train(c0), test(c1,c2) \n",
        "ext = 'drive/MyDrive/CV_Images/'"
      ]
    },
    {
      "cell_type": "markdown",
      "source": [
        "# Pushing the data into train, cropped_test, and uncropped_test"
      ],
      "metadata": {
        "id": "P8Wr9rkjPJ9Z"
      }
    },
    {
      "cell_type": "code",
      "execution_count": null,
      "metadata": {
        "id": "93D3qYFqOSwK"
      },
      "outputs": [],
      "source": [
        "for elephant in ['1031','1012','1020','1037']:#['1001']:#['1007']:#['1008','1018']:#['1039','1017']:#['1015','1004','1019','1021','1005']:\n",
        "  #for each in os.listdir(ext+'1019/cropped_train/'):#tr_image_list:\n",
        "  for each in os.listdir(ext+elephant+'/c0'):\n",
        "    shutil.copy(ext+elephant+'/c0/'+each, ext+elephant+'/train/')\n",
        "\n",
        "  for each in os.listdir(ext+elephant+'/c1'):\n",
        "    shutil.copy(ext+elephant+'/c1/'+each, ext+elephant+'/cropped_test/')\n",
        "\n",
        "  for each in os.listdir(ext+elephant+'/c2'):\n",
        "    shutil.copy(ext+elephant+'/c2/'+each, ext+elephant+'/cropped_test/')"
      ]
    },
    {
      "cell_type": "code",
      "execution_count": null,
      "metadata": {
        "id": "1FT-RIsEQSMp"
      },
      "outputs": [],
      "source": [
        "for elephant in ['1002']:#['1000']:#['1008','1018']:#['1039','1017']:#['1015','1004','1019','1021','1005']:\n",
        "  for each in os.listdir(ext+elephant+'/c0'):\n",
        "    shutil.copy(ext+elephant+'/c0/'+each, ext+elephant+'/train/')\n",
        "\n",
        "  for each in os.listdir(ext+elephant+'/c1'):\n",
        "    shutil.copy(ext+elephant+'/c1/'+each, ext+elephant+'/train/')\n",
        "\n",
        "  for each in os.listdir(ext+elephant+'/c2'):\n",
        "    shutil.copy(ext+elephant+'/c2/'+each, ext+elephant+'/cropped_test/')"
      ]
    },
    {
      "cell_type": "markdown",
      "source": [
        "# Copying images from cropped to uncropped "
      ],
      "metadata": {
        "id": "G_DSmX3qPM67"
      }
    },
    {
      "cell_type": "code",
      "execution_count": null,
      "metadata": {
        "id": "zXBMllliQZxC"
      },
      "outputs": [],
      "source": [
        "for elephant in ['1037','1031','1020','1012','1002']:#['1001','1000','1007']:#['1039','1017']:#['1015','1004','1019','1021','1005','1040']:\n",
        "  for each in os.listdir(ext+elephant+'/cropped_test'):\n",
        "    new_each = each.split('.')[0] +'.JPG'\n",
        "    try:\n",
        "      shutil.copy(ext+elephant+'/uncropped/'+new_each, ext+elephant+'/uncropped_test/')\n",
        "    except:\n",
        "      shutil.copy(ext+elephant+'/uncropped/'+each, ext+elephant+'/uncropped_test/')\n"
      ]
    }
  ],
  "metadata": {
    "accelerator": "GPU",
    "colab": {
      "collapsed_sections": [],
      "name": "train_test.ipynb",
      "provenance": []
    },
    "kernelspec": {
      "display_name": "Python 3",
      "name": "python3"
    },
    "language_info": {
      "name": "python"
    }
  },
  "nbformat": 4,
  "nbformat_minor": 0
}