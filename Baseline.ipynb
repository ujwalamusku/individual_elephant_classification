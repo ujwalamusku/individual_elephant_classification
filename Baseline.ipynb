{
  "nbformat": 4,
  "nbformat_minor": 0,
  "metadata": {
    "colab": {
      "name": "Baseline.ipynb",
      "provenance": [],
      "collapsed_sections": []
    },
    "kernelspec": {
      "name": "python3",
      "display_name": "Python 3"
    },
    "language_info": {
      "name": "python"
    },
    "accelerator": "GPU"
  },
  "cells": [
    {
      "cell_type": "code",
      "execution_count": null,
      "metadata": {
        "id": "rim5e_29UgnH"
      },
      "outputs": [],
      "source": [
        "# Imports\n",
        "\n",
        "import cv2\n",
        "import numpy as np\n",
        "import json\n",
        "import os\n",
        "import random\n",
        "import tensorflow as tf\n",
        "from keras.utils import np_utils\n",
        "from keras.models import Model, Sequential, load_model\n",
        "from keras.layers import Dense, Conv2D, MaxPooling2D, Flatten, Reshape, Dropout, Activation, MaxPooling2D, BatchNormalization\n",
        "from keras.preprocessing.image import ImageDataGenerator\n",
        "from keras.applications.resnet import ResNet50\n",
        "from sklearn.metrics import confusion_matrix, classification_report, accuracy_score\n",
        "import itertools\n",
        "import pandas as pd\n",
        "import matplotlib.pyplot as plt\n",
        "from keras.callbacks import EarlyStopping\n",
        "import keras"
      ]
    },
    {
      "cell_type": "code",
      "source": [
        "# Functions\n",
        "\n",
        "def data_loader(path, data_name, img_size):\n",
        "  all_images = []\n",
        "  all_files = ['1004', '1005', '1015', '1017', '1019', '1021', '1039', '1040']\n",
        "  for label_folder in all_files:\n",
        "    inside_path = path+'/'+ label_folder +'/'+ data_name\n",
        "    fold = os.listdir(inside_path)\n",
        "    for img in fold:\n",
        "      ext = os.path.splitext(img)[-1]\n",
        "      if ext in ['.jpg', '.JPG']: # only jpg files no json files\n",
        "        try:\n",
        "          img_arr = cv2.imread(os.path.join(inside_path, img))\n",
        "          new_arr = cv2.resize(img_arr, (img_size, img_size))\n",
        "          all_images.append([new_arr, label_folder])\n",
        "        except:\n",
        "          pass \n",
        "    random.shuffle(all_images)\n",
        "  return all_images\n",
        "\n",
        "\n",
        "def preprocesing(data, num_class):\n",
        "  X, y = [], []\n",
        "  for features, label in data:\n",
        "    X.append(features)                 \n",
        "    y.append(label)  \n",
        "  X = np.array(X).reshape(-1, 224, 224, 3)\n",
        "  encoding = np.vectorize(label_dict.get)(y) # label encoding\n",
        "  y = np.array(encoding)\n",
        "  y = tf.keras.utils.to_categorical(y, num_classes=num_class) # one hot encoding\n",
        "  print(\"The shape of the dataset:\", X.shape)\n",
        "  print(\"The shape of the label dataset:\", y.shape)\n",
        "  X = X/255.\n",
        "  return X, y"
      ],
      "metadata": {
        "id": "_VP-8Pa_XwGj"
      },
      "execution_count": null,
      "outputs": []
    },
    {
      "cell_type": "code",
      "source": [
        "path = '/content/drive/MyDrive/CV_Images'\n",
        "\n",
        "label_dict = {'1040':0, '1019':1, '1015':2, '1004':3, '1005':4, '1039':5, '1017':6,'1021':7,'1001':8,'1007':9,'1018':10}\n",
        "classes  = len(label_dict)\n",
        "\n",
        "# rename cropped_train to folder name which you want to run\n",
        "# img_train = data_loader(path, 'train', 224)\n",
        "# img_test_cropped = data_loader(path, 'cropped_test', 224)\n",
        "# img_test_uncropped = data_loader(path, 'uncropped_test', 224)\n",
        "\n",
        "# X_train, y_train = preprocesing(img_train, classes)\n",
        "# X_test_cropped, y_test_cropped = preprocesing(img_test_cropped, classes)\n",
        "# X_test_uncropped, y_test_uncropped = preprocesing(img_test_uncropped, classes)\n",
        "\n",
        "X_train = np.load('/content/drive/MyDrive/CV_Images_npy_11/X_train.npy')\n",
        "y_train = np.load('/content/drive/MyDrive/CV_Images_npy_11/y_train.npy')\n",
        "X_test_cr = np.load('/content/drive/MyDrive/CV_Images_npy_11/X_test_cr.npy')\n",
        "y_test_cr = np.load('/content/drive/MyDrive/CV_Images_npy_11/y_test_cr.npy')\n",
        "X_test_uncr = np.load('/content/drive/MyDrive/CV_Images_npy_11/X_test_uncr.npy')\n",
        "y_test_uncr = np.load('/content/drive/MyDrive/CV_Images_npy_11/y_test_uncr.npy')"
      ],
      "metadata": {
        "id": "nzdtyHEkU7ZU"
      },
      "execution_count": null,
      "outputs": []
    },
    {
      "cell_type": "code",
      "source": [
        "opt = tf.keras.optimizers.Adam(learning_rate=0.01)\n",
        "momentum = 0.8\n",
        "dp = 0.5"
      ],
      "metadata": {
        "id": "P6Q6vwYiTZaZ"
      },
      "execution_count": null,
      "outputs": []
    },
    {
      "cell_type": "code",
      "source": [
        "def get_model():\n",
        "    model = Sequential()\n",
        "\n",
        "    model.add(Conv2D(128, (7, 7), input_shape = X_train.shape[1:], activation='relu'))\n",
        "    model.add(MaxPooling2D(pool_size=(3, 3), padding='same'))\n",
        "    model.add(BatchNormalization(momentum=momentum))\n",
        "    model.add(Dropout(dp))\n",
        "\n",
        "    model.add(Conv2D(128, (5, 5), input_shape = X_train.shape[1:], activation='relu'))\n",
        "    model.add(MaxPooling2D(pool_size=(2, 2), padding='same'))\n",
        "    model.add(BatchNormalization(momentum=momentum))\n",
        "    model.add(Dropout(dp))\n",
        "\n",
        "    model.add(Conv2D(64, (3, 3), activation='relu'))\n",
        "    model.add(MaxPooling2D(pool_size=(2, 2), padding='same'))\n",
        "    model.add(BatchNormalization(momentum=momentum))\n",
        "    model.add(Dropout(dp))\n",
        "\n",
        "    model.add(Conv2D(64, (3, 3), activation='relu'))\n",
        "    model.add(MaxPooling2D(pool_size=(2, 2), padding='same'))\n",
        "    model.add(BatchNormalization(momentum=momentum))\n",
        "    model.add(Dropout(dp))\n",
        "\n",
        "    model.add(Conv2D(64, (3, 3), activation='relu'))\n",
        "    model.add(MaxPooling2D(pool_size=(2, 2), padding='same'))\n",
        "    model.add(BatchNormalization(momentum=momentum))\n",
        "    model.add(Dropout(dp))\n",
        "\n",
        "    model.add(Flatten())\n",
        "\n",
        "    model.add(Dense(1024, activation='relu'))\n",
        "\n",
        "    model.add(Dense(classes))\n",
        "    model.add(Activation('softmax'))\n",
        "\n",
        "    model.compile(loss='categorical_crossentropy', optimizer=\"adam\", \n",
        "                metrics=['accuracy'])\n",
        "\n",
        "    return model"
      ],
      "metadata": {
        "id": "nP6VYpj8Tbp4"
      },
      "execution_count": null,
      "outputs": []
    },
    {
      "cell_type": "markdown",
      "source": [
        "# Without Augmentation"
      ],
      "metadata": {
        "id": "xgY2FDIOTWCw"
      }
    },
    {
      "cell_type": "code",
      "source": [
        "model = get_model()"
      ],
      "metadata": {
        "id": "QQMAReWwTVr2"
      },
      "execution_count": null,
      "outputs": []
    },
    {
      "cell_type": "code",
      "source": [
        "EPOCHS = 50\n",
        "\n",
        "history = model.fit(X_train, y_train, batch_size=32, epochs=EPOCHS)"
      ],
      "metadata": {
        "colab": {
          "base_uri": "https://localhost:8080/"
        },
        "id": "mnrpwGKgTrRT",
        "outputId": "9d392d14-ad59-47b5-bc18-930e26b1b774"
      },
      "execution_count": null,
      "outputs": [
        {
          "output_type": "stream",
          "name": "stdout",
          "text": [
            "Epoch 1/50\n",
            "28/28 [==============================] - 19s 178ms/step - loss: 1.7336 - accuracy: 0.4152\n",
            "Epoch 2/50\n",
            "28/28 [==============================] - 4s 140ms/step - loss: 0.7498 - accuracy: 0.7395\n",
            "Epoch 3/50\n",
            "28/28 [==============================] - 4s 140ms/step - loss: 0.5555 - accuracy: 0.8055\n",
            "Epoch 4/50\n",
            "28/28 [==============================] - 4s 143ms/step - loss: 0.3898 - accuracy: 0.8623\n",
            "Epoch 5/50\n",
            "28/28 [==============================] - 4s 144ms/step - loss: 0.3502 - accuracy: 0.8862\n",
            "Epoch 6/50\n",
            "28/28 [==============================] - 4s 144ms/step - loss: 0.2792 - accuracy: 0.8976\n",
            "Epoch 7/50\n",
            "28/28 [==============================] - 4s 144ms/step - loss: 0.2043 - accuracy: 0.9363\n",
            "Epoch 8/50\n",
            "28/28 [==============================] - 4s 145ms/step - loss: 0.1505 - accuracy: 0.9465\n",
            "Epoch 9/50\n",
            "28/28 [==============================] - 4s 143ms/step - loss: 0.1406 - accuracy: 0.9499\n",
            "Epoch 10/50\n",
            "28/28 [==============================] - 4s 144ms/step - loss: 0.1208 - accuracy: 0.9590\n",
            "Epoch 11/50\n",
            "28/28 [==============================] - 4s 145ms/step - loss: 0.1493 - accuracy: 0.9454\n",
            "Epoch 12/50\n",
            "28/28 [==============================] - 4s 147ms/step - loss: 0.1574 - accuracy: 0.9477\n",
            "Epoch 13/50\n",
            "28/28 [==============================] - 4s 146ms/step - loss: 0.1127 - accuracy: 0.9568\n",
            "Epoch 14/50\n",
            "28/28 [==============================] - 4s 148ms/step - loss: 0.0872 - accuracy: 0.9704\n",
            "Epoch 15/50\n",
            "28/28 [==============================] - 4s 149ms/step - loss: 0.0846 - accuracy: 0.9795\n",
            "Epoch 16/50\n",
            "28/28 [==============================] - 4s 148ms/step - loss: 0.0781 - accuracy: 0.9727\n",
            "Epoch 17/50\n",
            "28/28 [==============================] - 4s 148ms/step - loss: 0.0871 - accuracy: 0.9659\n",
            "Epoch 18/50\n",
            "28/28 [==============================] - 4s 149ms/step - loss: 0.0490 - accuracy: 0.9875\n",
            "Epoch 19/50\n",
            "28/28 [==============================] - 4s 148ms/step - loss: 0.0789 - accuracy: 0.9761\n",
            "Epoch 20/50\n",
            "28/28 [==============================] - 4s 150ms/step - loss: 0.0468 - accuracy: 0.9829\n",
            "Epoch 21/50\n",
            "28/28 [==============================] - 4s 149ms/step - loss: 0.0628 - accuracy: 0.9829\n",
            "Epoch 22/50\n",
            "28/28 [==============================] - 4s 147ms/step - loss: 0.0501 - accuracy: 0.9818\n",
            "Epoch 23/50\n",
            "28/28 [==============================] - 4s 149ms/step - loss: 0.0509 - accuracy: 0.9772\n",
            "Epoch 24/50\n",
            "28/28 [==============================] - 4s 149ms/step - loss: 0.0619 - accuracy: 0.9750\n",
            "Epoch 25/50\n",
            "28/28 [==============================] - 4s 148ms/step - loss: 0.0792 - accuracy: 0.9795\n",
            "Epoch 26/50\n",
            "28/28 [==============================] - 4s 147ms/step - loss: 0.0661 - accuracy: 0.9761\n",
            "Epoch 27/50\n",
            "28/28 [==============================] - 4s 146ms/step - loss: 0.0561 - accuracy: 0.9807\n",
            "Epoch 28/50\n",
            "28/28 [==============================] - 4s 147ms/step - loss: 0.0423 - accuracy: 0.9863\n",
            "Epoch 29/50\n",
            "28/28 [==============================] - 4s 146ms/step - loss: 0.0374 - accuracy: 0.9829\n",
            "Epoch 30/50\n",
            "28/28 [==============================] - 4s 146ms/step - loss: 0.0613 - accuracy: 0.9829\n",
            "Epoch 31/50\n",
            "28/28 [==============================] - 4s 146ms/step - loss: 0.0843 - accuracy: 0.9704\n",
            "Epoch 32/50\n",
            "28/28 [==============================] - 4s 146ms/step - loss: 0.0645 - accuracy: 0.9750\n",
            "Epoch 33/50\n",
            "28/28 [==============================] - 4s 147ms/step - loss: 0.0458 - accuracy: 0.9829\n",
            "Epoch 34/50\n",
            "28/28 [==============================] - 4s 147ms/step - loss: 0.0549 - accuracy: 0.9841\n",
            "Epoch 35/50\n",
            "28/28 [==============================] - 4s 147ms/step - loss: 0.0407 - accuracy: 0.9875\n",
            "Epoch 36/50\n",
            "28/28 [==============================] - 4s 147ms/step - loss: 0.0269 - accuracy: 0.9898\n",
            "Epoch 37/50\n",
            "28/28 [==============================] - 4s 147ms/step - loss: 0.0231 - accuracy: 0.9920\n",
            "Epoch 38/50\n",
            "28/28 [==============================] - 4s 147ms/step - loss: 0.0334 - accuracy: 0.9863\n",
            "Epoch 39/50\n",
            "28/28 [==============================] - 4s 150ms/step - loss: 0.0373 - accuracy: 0.9898\n",
            "Epoch 40/50\n",
            "28/28 [==============================] - 4s 147ms/step - loss: 0.0567 - accuracy: 0.9841\n",
            "Epoch 41/50\n",
            "28/28 [==============================] - 4s 147ms/step - loss: 0.1239 - accuracy: 0.9738\n",
            "Epoch 42/50\n",
            "28/28 [==============================] - 4s 147ms/step - loss: 0.0466 - accuracy: 0.9886\n",
            "Epoch 43/50\n",
            "28/28 [==============================] - 4s 147ms/step - loss: 0.0453 - accuracy: 0.9886\n",
            "Epoch 44/50\n",
            "28/28 [==============================] - 4s 147ms/step - loss: 0.0691 - accuracy: 0.9852\n",
            "Epoch 45/50\n",
            "28/28 [==============================] - 4s 149ms/step - loss: 0.0328 - accuracy: 0.9875\n",
            "Epoch 46/50\n",
            "28/28 [==============================] - 4s 147ms/step - loss: 0.0203 - accuracy: 0.9932\n",
            "Epoch 47/50\n",
            "28/28 [==============================] - 4s 147ms/step - loss: 0.0225 - accuracy: 0.9932\n",
            "Epoch 48/50\n",
            "28/28 [==============================] - 4s 148ms/step - loss: 0.0209 - accuracy: 0.9932\n",
            "Epoch 49/50\n",
            "28/28 [==============================] - 4s 146ms/step - loss: 0.0408 - accuracy: 0.9909\n",
            "Epoch 50/50\n",
            "28/28 [==============================] - 4s 146ms/step - loss: 0.0523 - accuracy: 0.9898\n"
          ]
        }
      ]
    },
    {
      "cell_type": "code",
      "source": [
        "model.evaluate(X_test_cr, y_test_cr)"
      ],
      "metadata": {
        "colab": {
          "base_uri": "https://localhost:8080/"
        },
        "id": "-kxlSPlIT250",
        "outputId": "6b395240-d9cc-4c4c-b95f-f8778a988fab"
      },
      "execution_count": null,
      "outputs": [
        {
          "output_type": "stream",
          "name": "stdout",
          "text": [
            "11/11 [==============================] - 3s 76ms/step - loss: 4.9254 - accuracy: 0.3865\n"
          ]
        },
        {
          "output_type": "execute_result",
          "data": {
            "text/plain": [
              "[4.9253621101379395, 0.38650307059288025]"
            ]
          },
          "metadata": {},
          "execution_count": 10
        }
      ]
    },
    {
      "cell_type": "code",
      "source": [
        "model.evaluate(X_test_uncr, y_test_uncr)"
      ],
      "metadata": {
        "colab": {
          "base_uri": "https://localhost:8080/"
        },
        "id": "kA6PApXwT5dW",
        "outputId": "425391ff-958e-4522-9613-9014687de451"
      },
      "execution_count": null,
      "outputs": [
        {
          "output_type": "stream",
          "name": "stdout",
          "text": [
            "11/11 [==============================] - 0s 36ms/step - loss: 5.6323 - accuracy: 0.2699\n"
          ]
        },
        {
          "output_type": "execute_result",
          "data": {
            "text/plain": [
              "[5.632274627685547, 0.2699386477470398]"
            ]
          },
          "metadata": {},
          "execution_count": 11
        }
      ]
    },
    {
      "cell_type": "markdown",
      "source": [
        "### Augmentation 1 (Default)"
      ],
      "metadata": {
        "id": "kMKeFnpCdQa9"
      }
    },
    {
      "cell_type": "code",
      "source": [
        "datagen = ImageDataGenerator()\n",
        "datagen.fit(X_train)"
      ],
      "metadata": {
        "id": "CT-kHbmcX3WZ"
      },
      "execution_count": null,
      "outputs": []
    },
    {
      "cell_type": "code",
      "source": [
        "model = get_model()\n",
        "\n",
        "EPOCHS = 50\n",
        "\n",
        "history = model.fit(datagen.flow(X_train, y_train), batch_size=32, epochs=EPOCHS)"
      ],
      "metadata": {
        "colab": {
          "base_uri": "https://localhost:8080/"
        },
        "id": "wzgw1DA4YIGW",
        "outputId": "328b2201-e615-40b7-b9bf-c0131fd58ddd"
      },
      "execution_count": null,
      "outputs": [
        {
          "output_type": "stream",
          "name": "stdout",
          "text": [
            "Epoch 1/50\n",
            "28/28 [==============================] - 5s 150ms/step - loss: 1.5779 - accuracy: 0.4881\n",
            "Epoch 2/50\n",
            "28/28 [==============================] - 4s 147ms/step - loss: 0.7929 - accuracy: 0.7304\n",
            "Epoch 3/50\n",
            "28/28 [==============================] - 4s 148ms/step - loss: 0.5321 - accuracy: 0.8077\n",
            "Epoch 4/50\n",
            "28/28 [==============================] - 4s 148ms/step - loss: 0.3751 - accuracy: 0.8510\n",
            "Epoch 5/50\n",
            "28/28 [==============================] - 4s 148ms/step - loss: 0.3693 - accuracy: 0.8703\n",
            "Epoch 6/50\n",
            "28/28 [==============================] - 4s 148ms/step - loss: 0.2508 - accuracy: 0.9124\n",
            "Epoch 7/50\n",
            "28/28 [==============================] - 4s 149ms/step - loss: 0.2148 - accuracy: 0.9204\n",
            "Epoch 8/50\n",
            "28/28 [==============================] - 4s 151ms/step - loss: 0.2944 - accuracy: 0.9067\n",
            "Epoch 9/50\n",
            "28/28 [==============================] - 4s 153ms/step - loss: 0.2404 - accuracy: 0.9170\n",
            "Epoch 10/50\n",
            "28/28 [==============================] - 4s 148ms/step - loss: 0.1247 - accuracy: 0.9556\n",
            "Epoch 11/50\n",
            "28/28 [==============================] - 4s 152ms/step - loss: 0.1419 - accuracy: 0.9465\n",
            "Epoch 12/50\n",
            "28/28 [==============================] - 4s 148ms/step - loss: 0.1196 - accuracy: 0.9602\n",
            "Epoch 13/50\n",
            "28/28 [==============================] - 4s 148ms/step - loss: 0.1044 - accuracy: 0.9568\n",
            "Epoch 14/50\n",
            "28/28 [==============================] - 4s 149ms/step - loss: 0.1278 - accuracy: 0.9590\n",
            "Epoch 15/50\n",
            "28/28 [==============================] - 4s 148ms/step - loss: 0.0727 - accuracy: 0.9750\n",
            "Epoch 16/50\n",
            "28/28 [==============================] - 4s 147ms/step - loss: 0.0616 - accuracy: 0.9784\n",
            "Epoch 17/50\n",
            "28/28 [==============================] - 4s 148ms/step - loss: 0.0556 - accuracy: 0.9852\n",
            "Epoch 18/50\n",
            "28/28 [==============================] - 4s 149ms/step - loss: 0.0505 - accuracy: 0.9829\n",
            "Epoch 19/50\n",
            "28/28 [==============================] - 4s 148ms/step - loss: 0.0532 - accuracy: 0.9818\n",
            "Epoch 20/50\n",
            "28/28 [==============================] - 4s 149ms/step - loss: 0.0493 - accuracy: 0.9784\n",
            "Epoch 21/50\n",
            "28/28 [==============================] - 4s 149ms/step - loss: 0.0565 - accuracy: 0.9772\n",
            "Epoch 22/50\n",
            "28/28 [==============================] - 4s 149ms/step - loss: 0.0663 - accuracy: 0.9761\n",
            "Epoch 23/50\n",
            "28/28 [==============================] - 4s 149ms/step - loss: 0.0733 - accuracy: 0.9750\n",
            "Epoch 24/50\n",
            "28/28 [==============================] - 4s 149ms/step - loss: 0.0682 - accuracy: 0.9829\n",
            "Epoch 25/50\n",
            "28/28 [==============================] - 4s 147ms/step - loss: 0.0542 - accuracy: 0.9772\n",
            "Epoch 26/50\n",
            "28/28 [==============================] - 4s 151ms/step - loss: 0.1090 - accuracy: 0.9670\n",
            "Epoch 27/50\n",
            "28/28 [==============================] - 4s 148ms/step - loss: 0.0420 - accuracy: 0.9875\n",
            "Epoch 28/50\n",
            "28/28 [==============================] - 4s 148ms/step - loss: 0.0540 - accuracy: 0.9829\n",
            "Epoch 29/50\n",
            "28/28 [==============================] - 4s 148ms/step - loss: 0.0502 - accuracy: 0.9829\n",
            "Epoch 30/50\n",
            "28/28 [==============================] - 4s 148ms/step - loss: 0.0932 - accuracy: 0.9761\n",
            "Epoch 31/50\n",
            "28/28 [==============================] - 4s 148ms/step - loss: 0.0577 - accuracy: 0.9761\n",
            "Epoch 32/50\n",
            "28/28 [==============================] - 4s 148ms/step - loss: 0.0413 - accuracy: 0.9841\n",
            "Epoch 33/50\n",
            "28/28 [==============================] - 4s 148ms/step - loss: 0.0508 - accuracy: 0.9772\n",
            "Epoch 34/50\n",
            "28/28 [==============================] - 4s 149ms/step - loss: 0.0391 - accuracy: 0.9863\n",
            "Epoch 35/50\n",
            "28/28 [==============================] - 4s 147ms/step - loss: 0.0260 - accuracy: 0.9920\n",
            "Epoch 36/50\n",
            "28/28 [==============================] - 4s 149ms/step - loss: 0.0157 - accuracy: 0.9932\n",
            "Epoch 37/50\n",
            "28/28 [==============================] - 4s 148ms/step - loss: 0.0249 - accuracy: 0.9943\n",
            "Epoch 38/50\n",
            "28/28 [==============================] - 4s 147ms/step - loss: 0.0101 - accuracy: 0.9966\n",
            "Epoch 39/50\n",
            "28/28 [==============================] - 4s 150ms/step - loss: 0.0143 - accuracy: 0.9954\n",
            "Epoch 40/50\n",
            "28/28 [==============================] - 4s 148ms/step - loss: 0.0115 - accuracy: 0.9954\n",
            "Epoch 41/50\n",
            "28/28 [==============================] - 4s 152ms/step - loss: 0.0176 - accuracy: 0.9932\n",
            "Epoch 42/50\n",
            "28/28 [==============================] - 4s 152ms/step - loss: 0.0357 - accuracy: 0.9909\n",
            "Epoch 43/50\n",
            "28/28 [==============================] - 4s 148ms/step - loss: 0.0416 - accuracy: 0.9841\n",
            "Epoch 44/50\n",
            "28/28 [==============================] - 4s 148ms/step - loss: 0.0421 - accuracy: 0.9852\n",
            "Epoch 45/50\n",
            "28/28 [==============================] - 4s 149ms/step - loss: 0.0514 - accuracy: 0.9784\n",
            "Epoch 46/50\n",
            "28/28 [==============================] - 4s 147ms/step - loss: 0.0449 - accuracy: 0.9898\n",
            "Epoch 47/50\n",
            "28/28 [==============================] - 4s 148ms/step - loss: 0.0172 - accuracy: 0.9920\n",
            "Epoch 48/50\n",
            "28/28 [==============================] - 4s 148ms/step - loss: 0.0171 - accuracy: 0.9920\n",
            "Epoch 49/50\n",
            "28/28 [==============================] - 4s 149ms/step - loss: 0.0178 - accuracy: 0.9943\n",
            "Epoch 50/50\n",
            "28/28 [==============================] - 4s 148ms/step - loss: 0.0538 - accuracy: 0.9829\n"
          ]
        }
      ]
    },
    {
      "cell_type": "markdown",
      "source": [
        "Cropped Test"
      ],
      "metadata": {
        "id": "ZnJZO_DNg78e"
      }
    },
    {
      "cell_type": "code",
      "source": [
        "model.evaluate(X_test_cr, y_test_cr)"
      ],
      "metadata": {
        "colab": {
          "base_uri": "https://localhost:8080/"
        },
        "id": "xKlY9cMpYNMk",
        "outputId": "20efd948-2c9e-4be5-dc13-4b278d1355e1"
      },
      "execution_count": null,
      "outputs": [
        {
          "output_type": "stream",
          "name": "stdout",
          "text": [
            "11/11 [==============================] - 1s 36ms/step - loss: 6.0217 - accuracy: 0.3589\n"
          ]
        },
        {
          "output_type": "execute_result",
          "data": {
            "text/plain": [
              "[6.0217485427856445, 0.3588957190513611]"
            ]
          },
          "metadata": {},
          "execution_count": 14
        }
      ]
    },
    {
      "cell_type": "markdown",
      "source": [
        "Uncropped Test"
      ],
      "metadata": {
        "id": "O_EVO0OXg9SL"
      }
    },
    {
      "cell_type": "code",
      "source": [
        "model.evaluate(X_test_uncr, y_test_uncr)"
      ],
      "metadata": {
        "colab": {
          "base_uri": "https://localhost:8080/"
        },
        "id": "s1-neNfvhBq4",
        "outputId": "890e711e-52c5-4f29-daf6-161b187e56d5"
      },
      "execution_count": null,
      "outputs": [
        {
          "output_type": "stream",
          "name": "stdout",
          "text": [
            "11/11 [==============================] - 0s 37ms/step - loss: 6.9866 - accuracy: 0.2638\n"
          ]
        },
        {
          "output_type": "execute_result",
          "data": {
            "text/plain": [
              "[6.98657751083374, 0.2638036906719208]"
            ]
          },
          "metadata": {},
          "execution_count": 15
        }
      ]
    },
    {
      "cell_type": "markdown",
      "source": [
        "### Augmentation 2"
      ],
      "metadata": {
        "id": "KK7zzJ9EeRs2"
      }
    },
    {
      "cell_type": "code",
      "source": [
        "datagen = ImageDataGenerator(horizontal_flip = True)\n",
        "datagen.fit(X_train)"
      ],
      "metadata": {
        "id": "CL73a64veNy3"
      },
      "execution_count": null,
      "outputs": []
    },
    {
      "cell_type": "code",
      "source": [
        "model = get_model()\n",
        "\n",
        "EPOCHS = 50\n",
        "\n",
        "history = model.fit(datagen.flow(X_train, y_train), batch_size=32, epochs=EPOCHS)"
      ],
      "metadata": {
        "colab": {
          "base_uri": "https://localhost:8080/"
        },
        "id": "VR9yPlprcL5f",
        "outputId": "db5961bb-cbee-4e31-8b8c-8c22b145f790"
      },
      "execution_count": null,
      "outputs": [
        {
          "output_type": "stream",
          "name": "stdout",
          "text": [
            "Epoch 1/50\n",
            "28/28 [==============================] - 5s 147ms/step - loss: 1.9483 - accuracy: 0.3800\n",
            "Epoch 2/50\n",
            "28/28 [==============================] - 4s 147ms/step - loss: 1.2850 - accuracy: 0.5802\n",
            "Epoch 3/50\n",
            "28/28 [==============================] - 4s 147ms/step - loss: 0.9831 - accuracy: 0.6621\n",
            "Epoch 4/50\n",
            "28/28 [==============================] - 4s 147ms/step - loss: 0.8250 - accuracy: 0.7315\n",
            "Epoch 5/50\n",
            "28/28 [==============================] - 4s 148ms/step - loss: 0.6534 - accuracy: 0.7861\n",
            "Epoch 6/50\n",
            "28/28 [==============================] - 4s 148ms/step - loss: 0.6244 - accuracy: 0.7929\n",
            "Epoch 7/50\n",
            "28/28 [==============================] - 4s 148ms/step - loss: 0.4462 - accuracy: 0.8544\n",
            "Epoch 8/50\n",
            "28/28 [==============================] - 4s 148ms/step - loss: 0.4303 - accuracy: 0.8692\n",
            "Epoch 9/50\n",
            "28/28 [==============================] - 4s 148ms/step - loss: 0.3447 - accuracy: 0.8874\n",
            "Epoch 10/50\n",
            "28/28 [==============================] - 4s 147ms/step - loss: 0.2851 - accuracy: 0.9010\n",
            "Epoch 11/50\n",
            "28/28 [==============================] - 4s 147ms/step - loss: 0.2007 - accuracy: 0.9420\n",
            "Epoch 12/50\n",
            "28/28 [==============================] - 4s 147ms/step - loss: 0.2968 - accuracy: 0.8942\n",
            "Epoch 13/50\n",
            "28/28 [==============================] - 4s 148ms/step - loss: 0.2512 - accuracy: 0.9147\n",
            "Epoch 14/50\n",
            "28/28 [==============================] - 4s 151ms/step - loss: 0.1974 - accuracy: 0.9295\n",
            "Epoch 15/50\n",
            "28/28 [==============================] - 4s 147ms/step - loss: 0.1859 - accuracy: 0.9352\n",
            "Epoch 16/50\n",
            "28/28 [==============================] - 4s 147ms/step - loss: 0.1791 - accuracy: 0.9340\n",
            "Epoch 17/50\n",
            "28/28 [==============================] - 4s 147ms/step - loss: 0.1479 - accuracy: 0.9545\n",
            "Epoch 18/50\n",
            "28/28 [==============================] - 4s 147ms/step - loss: 0.1608 - accuracy: 0.9454\n",
            "Epoch 19/50\n",
            "28/28 [==============================] - 4s 147ms/step - loss: 0.1326 - accuracy: 0.9579\n",
            "Epoch 20/50\n",
            "28/28 [==============================] - 4s 147ms/step - loss: 0.0956 - accuracy: 0.9670\n",
            "Epoch 21/50\n",
            "28/28 [==============================] - 4s 147ms/step - loss: 0.1030 - accuracy: 0.9613\n",
            "Epoch 22/50\n",
            "28/28 [==============================] - 4s 148ms/step - loss: 0.0939 - accuracy: 0.9727\n",
            "Epoch 23/50\n",
            "28/28 [==============================] - 4s 148ms/step - loss: 0.0821 - accuracy: 0.9681\n",
            "Epoch 24/50\n",
            "28/28 [==============================] - 4s 148ms/step - loss: 0.0997 - accuracy: 0.9738\n",
            "Epoch 25/50\n",
            "28/28 [==============================] - 4s 147ms/step - loss: 0.1053 - accuracy: 0.9625\n",
            "Epoch 26/50\n",
            "28/28 [==============================] - 4s 147ms/step - loss: 0.1004 - accuracy: 0.9693\n",
            "Epoch 27/50\n",
            "28/28 [==============================] - 4s 147ms/step - loss: 0.0802 - accuracy: 0.9727\n",
            "Epoch 28/50\n",
            "28/28 [==============================] - 4s 147ms/step - loss: 0.0895 - accuracy: 0.9716\n",
            "Epoch 29/50\n",
            "28/28 [==============================] - 4s 147ms/step - loss: 0.0909 - accuracy: 0.9750\n",
            "Epoch 30/50\n",
            "28/28 [==============================] - 4s 148ms/step - loss: 0.0923 - accuracy: 0.9659\n",
            "Epoch 31/50\n",
            "28/28 [==============================] - 4s 147ms/step - loss: 0.0821 - accuracy: 0.9727\n",
            "Epoch 32/50\n",
            "28/28 [==============================] - 4s 147ms/step - loss: 0.0615 - accuracy: 0.9761\n",
            "Epoch 33/50\n",
            "28/28 [==============================] - 4s 147ms/step - loss: 0.0771 - accuracy: 0.9693\n",
            "Epoch 34/50\n",
            "28/28 [==============================] - 4s 147ms/step - loss: 0.0509 - accuracy: 0.9807\n",
            "Epoch 35/50\n",
            "28/28 [==============================] - 4s 150ms/step - loss: 0.0990 - accuracy: 0.9693\n",
            "Epoch 36/50\n",
            "28/28 [==============================] - 4s 147ms/step - loss: 0.0818 - accuracy: 0.9670\n",
            "Epoch 37/50\n",
            "28/28 [==============================] - 4s 147ms/step - loss: 0.0616 - accuracy: 0.9807\n",
            "Epoch 38/50\n",
            "28/28 [==============================] - 4s 150ms/step - loss: 0.1397 - accuracy: 0.9590\n",
            "Epoch 39/50\n",
            "28/28 [==============================] - 4s 147ms/step - loss: 0.0923 - accuracy: 0.9681\n",
            "Epoch 40/50\n",
            "28/28 [==============================] - 4s 149ms/step - loss: 0.1126 - accuracy: 0.9579\n",
            "Epoch 41/50\n",
            "28/28 [==============================] - 4s 148ms/step - loss: 0.0745 - accuracy: 0.9761\n",
            "Epoch 42/50\n",
            "28/28 [==============================] - 4s 148ms/step - loss: 0.0571 - accuracy: 0.9807\n",
            "Epoch 43/50\n",
            "28/28 [==============================] - 4s 147ms/step - loss: 0.0566 - accuracy: 0.9852\n",
            "Epoch 44/50\n",
            "28/28 [==============================] - 4s 147ms/step - loss: 0.0771 - accuracy: 0.9750\n",
            "Epoch 45/50\n",
            "28/28 [==============================] - 4s 148ms/step - loss: 0.0544 - accuracy: 0.9818\n",
            "Epoch 46/50\n",
            "28/28 [==============================] - 4s 147ms/step - loss: 0.0677 - accuracy: 0.9772\n",
            "Epoch 47/50\n",
            "28/28 [==============================] - 4s 147ms/step - loss: 0.0804 - accuracy: 0.9784\n",
            "Epoch 48/50\n",
            "28/28 [==============================] - 4s 146ms/step - loss: 0.0601 - accuracy: 0.9784\n",
            "Epoch 49/50\n",
            "28/28 [==============================] - 4s 148ms/step - loss: 0.0542 - accuracy: 0.9784\n",
            "Epoch 50/50\n",
            "28/28 [==============================] - 4s 148ms/step - loss: 0.1163 - accuracy: 0.9659\n"
          ]
        }
      ]
    },
    {
      "cell_type": "markdown",
      "source": [
        "Cropped Test"
      ],
      "metadata": {
        "id": "PUHevwl4hT4g"
      }
    },
    {
      "cell_type": "code",
      "source": [
        "model.evaluate(X_test_cr, y_test_cr)"
      ],
      "metadata": {
        "colab": {
          "base_uri": "https://localhost:8080/"
        },
        "id": "1tR5gm2Merw5",
        "outputId": "a7e1a4bf-8b5a-4f93-e9d8-c3ed1bbff0b8"
      },
      "execution_count": null,
      "outputs": [
        {
          "output_type": "stream",
          "name": "stdout",
          "text": [
            "11/11 [==============================] - 1s 44ms/step - loss: 2.9614 - accuracy: 0.6810\n"
          ]
        },
        {
          "output_type": "execute_result",
          "data": {
            "text/plain": [
              "[2.961383819580078, 0.6809815764427185]"
            ]
          },
          "metadata": {},
          "execution_count": 19
        }
      ]
    },
    {
      "cell_type": "markdown",
      "source": [
        "Uncropped Test"
      ],
      "metadata": {
        "id": "yIECwD7OhVCv"
      }
    },
    {
      "cell_type": "code",
      "source": [
        "model.evaluate(X_test_uncr, y_test_uncr)"
      ],
      "metadata": {
        "colab": {
          "base_uri": "https://localhost:8080/"
        },
        "id": "qs5SM2IghWrb",
        "outputId": "04180e67-9889-42b0-bdb9-a7cb59373be5"
      },
      "execution_count": null,
      "outputs": [
        {
          "output_type": "stream",
          "name": "stdout",
          "text": [
            "11/11 [==============================] - 0s 37ms/step - loss: 5.3913 - accuracy: 0.4110\n"
          ]
        },
        {
          "output_type": "execute_result",
          "data": {
            "text/plain": [
              "[5.391303539276123, 0.4110429584980011]"
            ]
          },
          "metadata": {},
          "execution_count": 20
        }
      ]
    },
    {
      "cell_type": "markdown",
      "source": [
        "# Augmentation 3"
      ],
      "metadata": {
        "id": "55nOX1sKUi5J"
      }
    },
    {
      "cell_type": "code",
      "source": [
        "datagen = ImageDataGenerator(\n",
        "    featurewise_center=True,\n",
        "    featurewise_std_normalization=True,\n",
        "    rotation_range=20,\n",
        "    width_shift_range=0.2,\n",
        "    height_shift_range=0.2,\n",
        "    horizontal_flip=True,\n",
        "    validation_split=0.2\n",
        ")\n",
        "datagen.fit(X_train)"
      ],
      "metadata": {
        "id": "gsjoz1B8fNHl"
      },
      "execution_count": null,
      "outputs": []
    },
    {
      "cell_type": "code",
      "source": [
        "model = get_model()\n",
        "\n",
        "EPOCHS = 50\n",
        "\n",
        "history = model.fit(datagen.flow(X_train, y_train), batch_size=32, epochs=EPOCHS)"
      ],
      "metadata": {
        "colab": {
          "base_uri": "https://localhost:8080/"
        },
        "id": "1iui14B7Uv7P",
        "outputId": "c453c27d-01a6-45f0-ee84-f8a85eaf7642"
      },
      "execution_count": null,
      "outputs": [
        {
          "output_type": "stream",
          "name": "stdout",
          "text": [
            "Epoch 1/50\n",
            "28/28 [==============================] - 12s 380ms/step - loss: 2.1874 - accuracy: 0.2890\n",
            "Epoch 2/50\n",
            "28/28 [==============================] - 11s 379ms/step - loss: 1.8682 - accuracy: 0.4266\n",
            "Epoch 3/50\n",
            "28/28 [==============================] - 10s 358ms/step - loss: 1.5659 - accuracy: 0.5063\n",
            "Epoch 4/50\n",
            "28/28 [==============================] - 10s 358ms/step - loss: 1.4912 - accuracy: 0.5222\n",
            "Epoch 5/50\n",
            "28/28 [==============================] - 10s 359ms/step - loss: 1.3432 - accuracy: 0.5813\n",
            "Epoch 6/50\n",
            "28/28 [==============================] - 10s 357ms/step - loss: 1.1366 - accuracy: 0.6416\n",
            "Epoch 7/50\n",
            "28/28 [==============================] - 10s 360ms/step - loss: 0.9426 - accuracy: 0.6758\n",
            "Epoch 8/50\n",
            "28/28 [==============================] - 10s 358ms/step - loss: 0.9111 - accuracy: 0.7133\n",
            "Epoch 9/50\n",
            "28/28 [==============================] - 11s 375ms/step - loss: 0.7776 - accuracy: 0.7361\n",
            "Epoch 10/50\n",
            "28/28 [==============================] - 10s 358ms/step - loss: 0.7530 - accuracy: 0.7497\n",
            "Epoch 11/50\n",
            "28/28 [==============================] - 10s 359ms/step - loss: 0.7147 - accuracy: 0.7600\n",
            "Epoch 12/50\n",
            "28/28 [==============================] - 10s 357ms/step - loss: 0.7300 - accuracy: 0.7600\n",
            "Epoch 13/50\n",
            "28/28 [==============================] - 10s 356ms/step - loss: 0.6920 - accuracy: 0.7600\n",
            "Epoch 14/50\n",
            "28/28 [==============================] - 10s 357ms/step - loss: 0.6284 - accuracy: 0.7850\n",
            "Epoch 15/50\n",
            "28/28 [==============================] - 10s 358ms/step - loss: 0.5352 - accuracy: 0.8214\n",
            "Epoch 16/50\n",
            "28/28 [==============================] - 10s 358ms/step - loss: 0.5161 - accuracy: 0.8157\n",
            "Epoch 17/50\n",
            "28/28 [==============================] - 10s 359ms/step - loss: 0.5838 - accuracy: 0.8157\n",
            "Epoch 18/50\n",
            "28/28 [==============================] - 10s 360ms/step - loss: 0.5055 - accuracy: 0.8271\n",
            "Epoch 19/50\n",
            "28/28 [==============================] - 10s 360ms/step - loss: 0.5483 - accuracy: 0.8248\n",
            "Epoch 20/50\n",
            "28/28 [==============================] - 10s 358ms/step - loss: 0.4256 - accuracy: 0.8567\n",
            "Epoch 21/50\n",
            "28/28 [==============================] - 10s 357ms/step - loss: 0.5209 - accuracy: 0.8396\n",
            "Epoch 22/50\n",
            "28/28 [==============================] - 10s 364ms/step - loss: 0.4857 - accuracy: 0.8282\n",
            "Epoch 23/50\n",
            "28/28 [==============================] - 10s 358ms/step - loss: 0.4161 - accuracy: 0.8510\n",
            "Epoch 24/50\n",
            "28/28 [==============================] - 10s 355ms/step - loss: 0.4163 - accuracy: 0.8669\n",
            "Epoch 25/50\n",
            "28/28 [==============================] - 10s 358ms/step - loss: 0.4153 - accuracy: 0.8714\n",
            "Epoch 26/50\n",
            "28/28 [==============================] - 10s 357ms/step - loss: 0.4404 - accuracy: 0.8601\n",
            "Epoch 27/50\n",
            "28/28 [==============================] - 10s 358ms/step - loss: 0.2987 - accuracy: 0.8987\n",
            "Epoch 28/50\n",
            "28/28 [==============================] - 10s 357ms/step - loss: 0.3680 - accuracy: 0.8692\n",
            "Epoch 29/50\n",
            "28/28 [==============================] - 10s 359ms/step - loss: 0.3255 - accuracy: 0.8953\n",
            "Epoch 30/50\n",
            "28/28 [==============================] - 10s 367ms/step - loss: 0.3297 - accuracy: 0.8942\n",
            "Epoch 31/50\n",
            "28/28 [==============================] - 10s 358ms/step - loss: 0.3797 - accuracy: 0.8862\n",
            "Epoch 32/50\n",
            "28/28 [==============================] - 10s 358ms/step - loss: 0.3257 - accuracy: 0.8851\n",
            "Epoch 33/50\n",
            "28/28 [==============================] - 10s 360ms/step - loss: 0.2778 - accuracy: 0.9067\n",
            "Epoch 34/50\n",
            "28/28 [==============================] - 10s 358ms/step - loss: 0.2338 - accuracy: 0.9192\n",
            "Epoch 35/50\n",
            "28/28 [==============================] - 10s 360ms/step - loss: 0.2812 - accuracy: 0.8942\n",
            "Epoch 36/50\n",
            "28/28 [==============================] - 10s 369ms/step - loss: 0.3205 - accuracy: 0.8987\n",
            "Epoch 37/50\n",
            "28/28 [==============================] - 10s 356ms/step - loss: 0.3506 - accuracy: 0.8646\n",
            "Epoch 38/50\n",
            "28/28 [==============================] - 10s 358ms/step - loss: 0.3152 - accuracy: 0.8919\n",
            "Epoch 39/50\n",
            "28/28 [==============================] - 10s 368ms/step - loss: 0.2736 - accuracy: 0.9056\n",
            "Epoch 40/50\n",
            "28/28 [==============================] - 10s 359ms/step - loss: 0.3821 - accuracy: 0.8919\n",
            "Epoch 41/50\n",
            "28/28 [==============================] - 10s 359ms/step - loss: 0.2783 - accuracy: 0.9090\n",
            "Epoch 42/50\n",
            "28/28 [==============================] - 10s 357ms/step - loss: 0.2621 - accuracy: 0.9158\n",
            "Epoch 43/50\n",
            "28/28 [==============================] - 10s 358ms/step - loss: 0.2550 - accuracy: 0.9135\n",
            "Epoch 44/50\n",
            "28/28 [==============================] - 10s 357ms/step - loss: 0.2482 - accuracy: 0.9147\n",
            "Epoch 45/50\n",
            "28/28 [==============================] - 10s 360ms/step - loss: 0.2300 - accuracy: 0.9283\n",
            "Epoch 46/50\n",
            "28/28 [==============================] - 10s 359ms/step - loss: 0.2697 - accuracy: 0.9056\n",
            "Epoch 47/50\n",
            "28/28 [==============================] - 10s 357ms/step - loss: 0.2822 - accuracy: 0.9147\n",
            "Epoch 48/50\n",
            "28/28 [==============================] - 10s 360ms/step - loss: 0.2790 - accuracy: 0.9101\n",
            "Epoch 49/50\n",
            "28/28 [==============================] - 10s 360ms/step - loss: 0.2340 - accuracy: 0.9295\n",
            "Epoch 50/50\n",
            "28/28 [==============================] - 10s 361ms/step - loss: 0.1932 - accuracy: 0.9386\n"
          ]
        }
      ]
    },
    {
      "cell_type": "code",
      "source": [
        "model.evaluate(X_test_cr, y_test_cr)"
      ],
      "metadata": {
        "colab": {
          "base_uri": "https://localhost:8080/"
        },
        "id": "xNqspslwUx4Q",
        "outputId": "d7e9cf8f-2d54-476e-8825-b387408012fc"
      },
      "execution_count": null,
      "outputs": [
        {
          "output_type": "stream",
          "name": "stdout",
          "text": [
            "11/11 [==============================] - 1s 36ms/step - loss: 736.1237 - accuracy: 0.0399\n"
          ]
        },
        {
          "output_type": "execute_result",
          "data": {
            "text/plain": [
              "[736.1236572265625, 0.03987729921936989]"
            ]
          },
          "metadata": {},
          "execution_count": 23
        }
      ]
    },
    {
      "cell_type": "code",
      "source": [
        "model.evaluate(X_test_uncr, y_test_uncr)"
      ],
      "metadata": {
        "colab": {
          "base_uri": "https://localhost:8080/"
        },
        "id": "R3e3wn8VU0CR",
        "outputId": "a9efd8ef-18da-4562-e847-d121547036a8"
      },
      "execution_count": null,
      "outputs": [
        {
          "output_type": "stream",
          "name": "stdout",
          "text": [
            "11/11 [==============================] - 0s 36ms/step - loss: 754.8057 - accuracy: 0.0368\n"
          ]
        },
        {
          "output_type": "execute_result",
          "data": {
            "text/plain": [
              "[754.8056640625, 0.03680981695652008]"
            ]
          },
          "metadata": {},
          "execution_count": 24
        }
      ]
    },
    {
      "cell_type": "markdown",
      "source": [
        "# Augmentation 4"
      ],
      "metadata": {
        "id": "nug8og7lVLu9"
      }
    },
    {
      "cell_type": "code",
      "source": [
        "datagen = ImageDataGenerator(\n",
        "    shear_range=0.2,\n",
        "    zoom_range=0.2,\n",
        "    horizontal_flip=True\n",
        ")\n",
        "datagen.fit(X_train)"
      ],
      "metadata": {
        "id": "73HqI4tbU0vB"
      },
      "execution_count": null,
      "outputs": []
    },
    {
      "cell_type": "code",
      "source": [
        "model = get_model()\n",
        "\n",
        "EPOCHS = 50\n",
        "\n",
        "history = model.fit(datagen.flow(X_train, y_train), batch_size=32, epochs=EPOCHS)"
      ],
      "metadata": {
        "colab": {
          "base_uri": "https://localhost:8080/"
        },
        "id": "Q0sWvjT6U0ro",
        "outputId": "0901d1f3-7ad9-4478-a5b0-82a03fc44217"
      },
      "execution_count": null,
      "outputs": [
        {
          "output_type": "stream",
          "name": "stdout",
          "text": [
            "Epoch 1/50\n",
            "28/28 [==============================] - 11s 361ms/step - loss: 1.9993 - accuracy: 0.3618\n",
            "Epoch 2/50\n",
            "28/28 [==============================] - 10s 342ms/step - loss: 1.2343 - accuracy: 0.5836\n",
            "Epoch 3/50\n",
            "28/28 [==============================] - 10s 343ms/step - loss: 0.9603 - accuracy: 0.6815\n",
            "Epoch 4/50\n",
            "28/28 [==============================] - 10s 345ms/step - loss: 0.7656 - accuracy: 0.7543\n",
            "Epoch 5/50\n",
            "28/28 [==============================] - 10s 343ms/step - loss: 0.6509 - accuracy: 0.7895\n",
            "Epoch 6/50\n",
            "28/28 [==============================] - 10s 344ms/step - loss: 0.5137 - accuracy: 0.8339\n",
            "Epoch 7/50\n",
            "28/28 [==============================] - 10s 343ms/step - loss: 0.4447 - accuracy: 0.8498\n",
            "Epoch 8/50\n",
            "28/28 [==============================] - 10s 342ms/step - loss: 0.4613 - accuracy: 0.8441\n",
            "Epoch 9/50\n",
            "28/28 [==============================] - 10s 343ms/step - loss: 0.3905 - accuracy: 0.8623\n",
            "Epoch 10/50\n",
            "28/28 [==============================] - 10s 342ms/step - loss: 0.3088 - accuracy: 0.8908\n",
            "Epoch 11/50\n",
            "28/28 [==============================] - 10s 344ms/step - loss: 0.3225 - accuracy: 0.8874\n",
            "Epoch 12/50\n",
            "28/28 [==============================] - 10s 344ms/step - loss: 0.2738 - accuracy: 0.9044\n",
            "Epoch 13/50\n",
            "28/28 [==============================] - 10s 343ms/step - loss: 0.2861 - accuracy: 0.8987\n",
            "Epoch 14/50\n",
            "28/28 [==============================] - 10s 344ms/step - loss: 0.2794 - accuracy: 0.9147\n",
            "Epoch 15/50\n",
            "28/28 [==============================] - 10s 343ms/step - loss: 0.2675 - accuracy: 0.9067\n",
            "Epoch 16/50\n",
            "28/28 [==============================] - 10s 342ms/step - loss: 0.1894 - accuracy: 0.9408\n",
            "Epoch 17/50\n",
            "28/28 [==============================] - 10s 341ms/step - loss: 0.1879 - accuracy: 0.9386\n",
            "Epoch 18/50\n",
            "28/28 [==============================] - 10s 343ms/step - loss: 0.1670 - accuracy: 0.9397\n",
            "Epoch 19/50\n",
            "28/28 [==============================] - 10s 343ms/step - loss: 0.1599 - accuracy: 0.9477\n",
            "Epoch 20/50\n",
            "28/28 [==============================] - 10s 341ms/step - loss: 0.1304 - accuracy: 0.9590\n",
            "Epoch 21/50\n",
            "28/28 [==============================] - 10s 343ms/step - loss: 0.1336 - accuracy: 0.9522\n",
            "Epoch 22/50\n",
            "28/28 [==============================] - 10s 344ms/step - loss: 0.1588 - accuracy: 0.9374\n",
            "Epoch 23/50\n",
            "28/28 [==============================] - 10s 343ms/step - loss: 0.1193 - accuracy: 0.9659\n",
            "Epoch 24/50\n",
            "28/28 [==============================] - 10s 340ms/step - loss: 0.1457 - accuracy: 0.9545\n",
            "Epoch 25/50\n",
            "28/28 [==============================] - 10s 340ms/step - loss: 0.1242 - accuracy: 0.9590\n",
            "Epoch 26/50\n",
            "28/28 [==============================] - 10s 342ms/step - loss: 0.0835 - accuracy: 0.9738\n",
            "Epoch 27/50\n",
            "28/28 [==============================] - 10s 343ms/step - loss: 0.1099 - accuracy: 0.9681\n",
            "Epoch 28/50\n",
            "28/28 [==============================] - 10s 341ms/step - loss: 0.1155 - accuracy: 0.9636\n",
            "Epoch 29/50\n",
            "28/28 [==============================] - 10s 342ms/step - loss: 0.1209 - accuracy: 0.9522\n",
            "Epoch 30/50\n",
            "28/28 [==============================] - 10s 349ms/step - loss: 0.0998 - accuracy: 0.9613\n",
            "Epoch 31/50\n",
            "28/28 [==============================] - 10s 343ms/step - loss: 0.0892 - accuracy: 0.9670\n",
            "Epoch 32/50\n",
            "28/28 [==============================] - 10s 341ms/step - loss: 0.1108 - accuracy: 0.9647\n",
            "Epoch 33/50\n",
            "28/28 [==============================] - 10s 344ms/step - loss: 0.0833 - accuracy: 0.9738\n",
            "Epoch 34/50\n",
            "28/28 [==============================] - 10s 340ms/step - loss: 0.1461 - accuracy: 0.9568\n",
            "Epoch 35/50\n",
            "28/28 [==============================] - 10s 343ms/step - loss: 0.1593 - accuracy: 0.9522\n",
            "Epoch 36/50\n",
            "28/28 [==============================] - 10s 342ms/step - loss: 0.0840 - accuracy: 0.9727\n",
            "Epoch 37/50\n",
            "28/28 [==============================] - 10s 351ms/step - loss: 0.1352 - accuracy: 0.9579\n",
            "Epoch 38/50\n",
            "28/28 [==============================] - 10s 343ms/step - loss: 0.1197 - accuracy: 0.9579\n",
            "Epoch 39/50\n",
            "28/28 [==============================] - 10s 343ms/step - loss: 0.1096 - accuracy: 0.9727\n",
            "Epoch 40/50\n",
            "28/28 [==============================] - 10s 343ms/step - loss: 0.1061 - accuracy: 0.9704\n",
            "Epoch 41/50\n",
            "28/28 [==============================] - 10s 341ms/step - loss: 0.1376 - accuracy: 0.9556\n",
            "Epoch 42/50\n",
            "28/28 [==============================] - 10s 351ms/step - loss: 0.1495 - accuracy: 0.9522\n",
            "Epoch 43/50\n",
            "28/28 [==============================] - 10s 341ms/step - loss: 0.1016 - accuracy: 0.9681\n",
            "Epoch 44/50\n",
            "28/28 [==============================] - 10s 339ms/step - loss: 0.1092 - accuracy: 0.9636\n",
            "Epoch 45/50\n",
            "28/28 [==============================] - 10s 341ms/step - loss: 0.0901 - accuracy: 0.9750\n",
            "Epoch 46/50\n",
            "28/28 [==============================] - 10s 344ms/step - loss: 0.0813 - accuracy: 0.9727\n",
            "Epoch 47/50\n",
            "28/28 [==============================] - 10s 340ms/step - loss: 0.0763 - accuracy: 0.9772\n",
            "Epoch 48/50\n",
            "28/28 [==============================] - 10s 342ms/step - loss: 0.0870 - accuracy: 0.9681\n",
            "Epoch 49/50\n",
            "28/28 [==============================] - 10s 343ms/step - loss: 0.0950 - accuracy: 0.9750\n",
            "Epoch 50/50\n",
            "28/28 [==============================] - 10s 343ms/step - loss: 0.0643 - accuracy: 0.9784\n"
          ]
        }
      ]
    },
    {
      "cell_type": "code",
      "source": [
        "model.evaluate(X_test_cr, y_test_cr)"
      ],
      "metadata": {
        "colab": {
          "base_uri": "https://localhost:8080/"
        },
        "id": "UQJacSwUU0c1",
        "outputId": "bfe46441-ee81-436b-927a-6e7189e356b5"
      },
      "execution_count": null,
      "outputs": [
        {
          "output_type": "stream",
          "name": "stdout",
          "text": [
            "11/11 [==============================] - 1s 36ms/step - loss: 2.9942 - accuracy: 0.5031\n"
          ]
        },
        {
          "output_type": "execute_result",
          "data": {
            "text/plain": [
              "[2.994241237640381, 0.5030674934387207]"
            ]
          },
          "metadata": {},
          "execution_count": 28
        }
      ]
    },
    {
      "cell_type": "code",
      "source": [
        "model.evaluate(X_test_uncr, y_test_uncr)"
      ],
      "metadata": {
        "colab": {
          "base_uri": "https://localhost:8080/"
        },
        "id": "2v105cS6WyCV",
        "outputId": "e3a82d0a-3657-4262-b939-a051deb134e3"
      },
      "execution_count": null,
      "outputs": [
        {
          "output_type": "stream",
          "name": "stdout",
          "text": [
            "11/11 [==============================] - 0s 37ms/step - loss: 4.7160 - accuracy: 0.2883\n"
          ]
        },
        {
          "output_type": "execute_result",
          "data": {
            "text/plain": [
              "[4.716043472290039, 0.28834354877471924]"
            ]
          },
          "metadata": {},
          "execution_count": 29
        }
      ]
    },
    {
      "cell_type": "code",
      "source": [
        ""
      ],
      "metadata": {
        "id": "NXT2XsGYZBrU"
      },
      "execution_count": null,
      "outputs": []
    }
  ]
}